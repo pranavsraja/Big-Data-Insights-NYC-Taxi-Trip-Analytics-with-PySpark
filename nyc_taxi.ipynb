{
  "cells": [
    {
      "cell_type": "markdown",
      "metadata": {
        "application/vnd.databricks.v1+cell": {
          "inputWidgets": {},
          "nuid": "7601bf0e-75f1-4b25-97f1-54e1d855bd12",
          "showTitle": false,
          "title": ""
        },
        "id": "_My7PTp9ctI6"
      },
      "source": [
        "# [CSC8101] Engineering for AI - 2025 Spark Coursework"
      ]
    },
    {
      "cell_type": "markdown",
      "source": [
        "**Name:** *PRANAV SUNIL RAJA*  \n",
        "\n",
        "**Student Number** *240408545*"
      ],
      "metadata": {
        "id": "nTkmev9UNm-Y"
      }
    },
    {
      "cell_type": "markdown",
      "metadata": {
        "application/vnd.databricks.v1+cell": {
          "inputWidgets": {},
          "nuid": "a451fe1b-c36e-4226-a708-a903f5844f7d",
          "showTitle": false,
          "title": ""
        },
        "id": "E8CE5AD6ctI8"
      },
      "source": [
        "## Coursework overview\n",
        "\n",
        "### Inputs\n",
        "\n",
        "- **NYC Taxi Trips dataset** - list of recorded taxi trips, each with several characteristics, namely: distance, number of passengers, origin zone, destination zone and trip cost (total amount charged to customer).\n",
        "- **NYC Zones dataset** - list of zones wherein trips can originate/terminate.\n",
        "\n",
        "### Tasks\n",
        "\n",
        "1. Data cleaning\n",
        "  1. Remove \"0 distance\" and 'no passengers' records.\n",
        "  2. Remove outlier records.\n",
        "2. Add new columns\n",
        "  1. Join with zones dataset\n",
        "  2. Compute the unit profitability of each trip\n",
        "3. Zone summarisation and ranking\n",
        "  1. Summarise trip data per zone\n",
        "  2. Obtain the top 10 ranks according to:\n",
        "    1. The total trip volume\n",
        "    2. Their average profitabilitiy\n",
        "    3. The total passenger volume\n",
        "4. Record the total and task-specific execution times for each dataset size and format.\n",
        "\n",
        "### How to\n",
        "\n",
        "###### Code structure and implementation\n",
        "\n",
        "- You must implement your solution to each task in the provided function code skeleton.\n",
        "- The task-specific functions are combined together to form the full pipeline code, executed last (do not modify this code).\n",
        "- Before implementing the specified function skeleton, you should develop and test your solution on separate code cells (create and destroy cells as needed).\n",
        "\n",
        "###### Development\n",
        "\n",
        "- Develop an initial working solution for the 'S' dataset and only then optimise it for larger dataset sizes.\n",
        "- To perform vectorised operations on a DataFrame:\n",
        "  - use the API docs to look for existing vectorised functions in: https://spark.apache.org/docs/latest/api/python/reference/pyspark.sql/functions.html\n",
        "  - if a customised function is required (e.g. to add a new column based on a linear combination of other columns), implement your own User Defined Function (UDF). See:  https://spark.apache.org/docs/latest/sql-ref-functions-udf-scalar.html\n",
        "- Use only the `pyspark.sql` API - documentation link below - (note that searching through the docs returns results from the `pyspark.sql` API together with the `pyspark.pandas` API):\n",
        "  - https://spark.apache.org/docs/latest/api/python/reference/pyspark.pandas/frame.html\n",
        "- Periodically download your notebook to your computer as backup and safety measure against accidental file deletion.\n",
        "\n",
        "###### Execution time measurement\n",
        "\n",
        "- Execution time is calculated and returned by the Spark Engine and shown in the output region of the cell.\n",
        "- To measure the execution time of a task you must perform a `collect` or similar operation (e.g. `take`) on the returned DataFrame."
      ]
    },
    {
      "cell_type": "markdown",
      "source": [
        "The following codeblock is used to mount the google colab instance to your google drive, in which we will be accessing the data provided in the course.\n"
      ],
      "metadata": {
        "id": "CDUbnQ32nR8r"
      }
    },
    {
      "cell_type": "code",
      "source": [
        "from google.colab import drive\n",
        "drive.mount('/content/drive')"
      ],
      "metadata": {
        "colab": {
          "base_uri": "https://localhost:8080/"
        },
        "id": "Tm8yjI6Xl1NJ",
        "outputId": "00b37d27-de44-458c-e5c0-3f6e6a4c8bd0"
      },
      "execution_count": 1,
      "outputs": [
        {
          "output_type": "stream",
          "name": "stdout",
          "text": [
            "Mounted at /content/drive\n"
          ]
        }
      ]
    },
    {
      "cell_type": "markdown",
      "metadata": {
        "application/vnd.databricks.v1+cell": {
          "inputWidgets": {},
          "nuid": "d26c1c73-cac4-4937-8201-4c15cc6be296",
          "showTitle": false,
          "title": ""
        },
        "id": "ZjXKIdU-ctI9"
      },
      "source": [
        "## Task 0 - Read data\n",
        "\n",
        "The code below is ready to run. **Do not modify this code**. It does the following:\n",
        "\n",
        "- Reads the 'zones' dataset into variable 'zone_names'\n",
        "- Defines the `init_trips` function that allows you to read the 'trips' dataset (from the DBFS FileStore) given the dataset size ('S' to 'XXL') as function argument\n",
        "- Defines the `pipeline` function, called in Task 4 to measure the execution time of the entire data processing pipeline\n",
        "- Shows you how to call the `init_trips` function and display dataset characteristics (number of rows, schema)"
      ]
    },
    {
      "cell_type": "markdown",
      "metadata": {
        "id": "Aoj5YWL1ctI9"
      },
      "source": []
    },
    {
      "cell_type": "code",
      "source": [
        "!pip install findspark"
      ],
      "metadata": {
        "colab": {
          "base_uri": "https://localhost:8080/"
        },
        "id": "f0ZI33j4u9Sv",
        "outputId": "f15b3d5e-e0f1-46e1-d0e6-40b4751db403"
      },
      "execution_count": 2,
      "outputs": [
        {
          "output_type": "stream",
          "name": "stdout",
          "text": [
            "Collecting findspark\n",
            "  Downloading findspark-2.0.1-py2.py3-none-any.whl.metadata (352 bytes)\n",
            "Downloading findspark-2.0.1-py2.py3-none-any.whl (4.4 kB)\n",
            "Installing collected packages: findspark\n",
            "Successfully installed findspark-2.0.1\n"
          ]
        }
      ]
    },
    {
      "cell_type": "code",
      "source": [
        "## global imports\n",
        "import pyspark.sql as ps\n",
        "import pyspark.sql.functions as pf\n",
        "import pandas as pd\n",
        "import findspark\n",
        "findspark.init()\n",
        "from pyspark.sql import SparkSession\n",
        "spark = SparkSession.builder.master(\"local[*]\").getOrCreate()"
      ],
      "metadata": {
        "id": "hZC-DreftHpQ"
      },
      "execution_count": 3,
      "outputs": []
    },
    {
      "cell_type": "code",
      "execution_count": 4,
      "metadata": {
        "application/vnd.databricks.v1+cell": {
          "inputWidgets": {},
          "nuid": "57aaebcc-fc2a-4d86-a58e-c1489efeadaf",
          "showTitle": false,
          "title": ""
        },
        "id": "suolqqpEctI9"
      },
      "outputs": [],
      "source": [
        "# Load zone names dataset - (much faster to read small file from git than dbfs)\n",
        "zones_file_url = 'https://raw.githubusercontent.com/NewcastleComputingScience/csc8101-coursework/main/02-assignment-spark/taxi_zone_names.csv'\n",
        "zone_names = spark.createDataFrame(pd.read_csv(zones_file_url))\n",
        "\n",
        "# Function to load trips dataset by selected dataset size\n",
        "def init_trips(size = 'S'):\n",
        "\n",
        "    files = {\n",
        "        'S'  : ['2021_07'],\n",
        "        'M'  : ['2021'],\n",
        "        'L'  : ['2020_21'],\n",
        "        'XL' : ['1_6_2019', '7_12_2019'],\n",
        "        'XXL': ['1_6_2019', '7_12_2019', '2020_21']\n",
        "    }\n",
        "\n",
        "    # validate input dataset size\n",
        "    if size not in files.keys():\n",
        "        print(\"Invalid input dataset size. Must be one of {}\".format(list(files.keys())))\n",
        "        return None\n",
        "\n",
        "    filenames = list(map(lambda s: f'/content/drive/MyDrive/CSC8101_Data/tripdata_{s}.parquet', files[size]))\n",
        "    trips_df = spark.read.parquet(filenames[0])\n",
        "\n",
        "    for name in filenames[1:]:\n",
        "        trips_df = trips_df.union(spark.read.parquet(name))\n",
        "\n",
        "\n",
        "    print(\n",
        "    \"\"\"\n",
        "    Trips dataset loaded!\n",
        "    ---\n",
        "      Size: {s}\n",
        "      Tables loaded: {ds}\n",
        "      Number of trips (dataset rows): {tc:,}\n",
        "    \"\"\".format(s = size, ds = filenames, tc = trips_df.count()))\n",
        "\n",
        "    return trips_df\n",
        "\n",
        "# helper function to print dataset row count\n",
        "def print_count(df):\n",
        "    print(\"Row count: {t:,}\".format(t = df.count()))\n",
        "\n",
        "def pipeline(trips_df, with_task_12 = False, zones_df = zone_names):\n",
        "    # Do not edit\n",
        "    #---\n",
        "\n",
        "    ## Task 1.1\n",
        "    _trips_11 = t11_remove_zeros(trips_df)\n",
        "\n",
        "    ## Task 1.2\n",
        "    if with_task_12:\n",
        "        _trips_12 = t12_remove_outliers(_trips_11)\n",
        "    else:\n",
        "        _trips_12 = _trips_11\n",
        "\n",
        "    ## Task 2.1\n",
        "    _trips_21 = t21_join_zones(_trips_12, zones_df = zone_names)\n",
        "\n",
        "    ## Task 2.2\n",
        "    _trips_22 = t22_calc_profit(_trips_21)\n",
        "\n",
        "    ## Task 3.1\n",
        "    _graph = t31_summarise_trips(_trips_22)\n",
        "\n",
        "    ## Task 3.2\n",
        "    _zones = t32_summarise_zones_pairs(_graph)\n",
        "\n",
        "    _top10_trips     = t32_top10_trips(_zones)\n",
        "    _top10_profit    = t32_top10_profit(_zones)\n",
        "    _top10_passenger = t32_top10_passenger(_zones)\n",
        "\n",
        "    return([_top10_trips, _top10_profit, _top10_passenger])"
      ]
    },
    {
      "cell_type": "code",
      "execution_count": 5,
      "metadata": {
        "application/vnd.databricks.v1+cell": {
          "inputWidgets": {},
          "nuid": "490ab841-fd73-4466-a6e7-5121395deca9",
          "showTitle": false,
          "title": ""
        },
        "id": "DXOjNYDrctI-",
        "outputId": "267cb74b-1757-4e9f-cdc8-dd6199242b5c",
        "colab": {
          "base_uri": "https://localhost:8080/"
        }
      },
      "outputs": [
        {
          "output_type": "stream",
          "name": "stdout",
          "text": [
            "\n",
            "    Trips dataset loaded!\n",
            "    ---\n",
            "      Size: M\n",
            "      Tables loaded: ['/content/drive/MyDrive/CSC8101_Data/tripdata_2021.parquet']\n",
            "      Number of trips (dataset rows): 15,571,166\n",
            "    \n"
          ]
        }
      ],
      "source": [
        "# CHANGE the value of argument 'size' to record the pipeline execution times for increasing dataset sizes\n",
        "SIZE = 'M'\n",
        "\n",
        "\n",
        "# Load trips dataset\n",
        "trips = init_trips(SIZE)\n",
        "\n",
        "# uncomment line only for small datasets\n",
        "# trips.take(1)"
      ]
    },
    {
      "cell_type": "code",
      "execution_count": 6,
      "metadata": {
        "application/vnd.databricks.v1+cell": {
          "inputWidgets": {},
          "nuid": "92da0d12-33a0-4df0-b1d2-607ebb65d948",
          "showTitle": false,
          "title": ""
        },
        "id": "aFkfObE0ctI-",
        "outputId": "e9960886-22bc-4033-9987-031531bf3d36",
        "colab": {
          "base_uri": "https://localhost:8080/"
        }
      },
      "outputs": [
        {
          "output_type": "stream",
          "name": "stdout",
          "text": [
            "Row count: 15,571,166\n"
          ]
        }
      ],
      "source": [
        "print_count(trips)"
      ]
    },
    {
      "cell_type": "code",
      "execution_count": 7,
      "metadata": {
        "application/vnd.databricks.v1+cell": {
          "inputWidgets": {},
          "nuid": "490e67f7-4457-4bd5-b89a-a6d24c5645d5",
          "showTitle": false,
          "title": ""
        },
        "id": "VlK_jzthctI-",
        "outputId": "1ce0af6b-fbb1-4c76-852b-b55f8a1e79f4",
        "colab": {
          "base_uri": "https://localhost:8080/"
        }
      },
      "outputs": [
        {
          "output_type": "stream",
          "name": "stdout",
          "text": [
            "root\n",
            " |-- index: long (nullable = true)\n",
            " |-- VendorID: double (nullable = true)\n",
            " |-- tpep_pickup_datetime: string (nullable = true)\n",
            " |-- tpep_dropoff_datetime: string (nullable = true)\n",
            " |-- passenger_count: double (nullable = true)\n",
            " |-- trip_distance: double (nullable = true)\n",
            " |-- RatecodeID: double (nullable = true)\n",
            " |-- store_and_fwd_flag: string (nullable = true)\n",
            " |-- PULocationID: long (nullable = true)\n",
            " |-- DOLocationID: long (nullable = true)\n",
            " |-- payment_type: double (nullable = true)\n",
            " |-- fare_amount: double (nullable = true)\n",
            " |-- extra: double (nullable = true)\n",
            " |-- mta_tax: double (nullable = true)\n",
            " |-- tip_amount: double (nullable = true)\n",
            " |-- tolls_amount: double (nullable = true)\n",
            " |-- improvement_surcharge: double (nullable = true)\n",
            " |-- total_amount: double (nullable = true)\n",
            " |-- congestion_surcharge: double (nullable = true)\n",
            " |-- cab_type: string (nullable = true)\n",
            " |-- lpep_pickup_datetime: string (nullable = true)\n",
            " |-- lpep_dropoff_datetime: string (nullable = true)\n",
            " |-- ehail_fee: double (nullable = true)\n",
            " |-- trip_type: double (nullable = true)\n",
            "\n"
          ]
        }
      ],
      "source": [
        "# dataset schemas\n",
        "trips.printSchema()"
      ]
    },
    {
      "cell_type": "code",
      "execution_count": 8,
      "metadata": {
        "application/vnd.databricks.v1+cell": {
          "inputWidgets": {},
          "nuid": "5e2ab160-b9b8-4c4a-bb70-fc3197bae230",
          "showTitle": false,
          "title": ""
        },
        "id": "H-wg8TN7ctI_",
        "outputId": "46424232-a3f1-4e0b-faf5-bb2c02a8be6d",
        "colab": {
          "base_uri": "https://localhost:8080/",
          "height": 104
        }
      },
      "outputs": [
        {
          "output_type": "display_data",
          "data": {
            "text/plain": [
              "[Row(PULocationID=142, DOLocationID=43, trip_distance=2.1, passenger_count=1.0, total_amount=11.8),\n",
              " Row(PULocationID=238, DOLocationID=151, trip_distance=0.2, passenger_count=1.0, total_amount=4.3),\n",
              " Row(PULocationID=132, DOLocationID=165, trip_distance=14.7, passenger_count=1.0, total_amount=51.95),\n",
              " Row(PULocationID=138, DOLocationID=132, trip_distance=10.6, passenger_count=0.0, total_amount=36.35),\n",
              " Row(PULocationID=68, DOLocationID=33, trip_distance=4.94, passenger_count=1.0, total_amount=24.36)]"
            ]
          },
          "metadata": {}
        }
      ],
      "source": [
        "display(trips[['PULocationID', 'DOLocationID', 'trip_distance', 'passenger_count', 'total_amount']].take(5))"
      ]
    },
    {
      "cell_type": "code",
      "execution_count": 9,
      "metadata": {
        "application/vnd.databricks.v1+cell": {
          "inputWidgets": {},
          "nuid": "eee4451c-b49a-42a6-b87e-81aad4144cf1",
          "showTitle": false,
          "title": ""
        },
        "id": "5M0rcWtDctI_",
        "outputId": "e3334000-59e1-4301-e94a-7896ca17e54c",
        "colab": {
          "base_uri": "https://localhost:8080/"
        }
      },
      "outputs": [
        {
          "output_type": "stream",
          "name": "stdout",
          "text": [
            "root\n",
            " |-- LocationID: long (nullable = true)\n",
            " |-- Borough: string (nullable = true)\n",
            " |-- Zone: string (nullable = true)\n",
            " |-- service_zone: string (nullable = true)\n",
            "\n"
          ]
        }
      ],
      "source": [
        "zone_names.printSchema()"
      ]
    },
    {
      "cell_type": "code",
      "execution_count": 10,
      "metadata": {
        "application/vnd.databricks.v1+cell": {
          "inputWidgets": {},
          "nuid": "8a1ed0a0-0621-471d-8332-d47b52f71817",
          "showTitle": false,
          "title": ""
        },
        "id": "MnBRw7MZctI_",
        "outputId": "3dfa1e46-d8c7-42e1-f462-cc4cee5136be",
        "colab": {
          "base_uri": "https://localhost:8080/",
          "height": 104
        }
      },
      "outputs": [
        {
          "output_type": "display_data",
          "data": {
            "text/plain": [
              "[Row(LocationID=1, Borough='EWR', Zone='Newark Airport', service_zone='EWR'),\n",
              " Row(LocationID=2, Borough='Queens', Zone='Jamaica Bay', service_zone='Boro Zone'),\n",
              " Row(LocationID=3, Borough='Bronx', Zone='Allerton/Pelham Gardens', service_zone='Boro Zone'),\n",
              " Row(LocationID=4, Borough='Manhattan', Zone='Alphabet City', service_zone='Yellow Zone'),\n",
              " Row(LocationID=5, Borough='Staten Island', Zone='Arden Heights', service_zone='Boro Zone')]"
            ]
          },
          "metadata": {}
        }
      ],
      "source": [
        "display(zone_names.take(5))"
      ]
    },
    {
      "cell_type": "markdown",
      "metadata": {
        "application/vnd.databricks.v1+cell": {
          "inputWidgets": {},
          "nuid": "99294dd5-92b7-4e50-9623-d00d82da993b",
          "showTitle": false,
          "title": ""
        },
        "id": "pAiqa60IctI_"
      },
      "source": [
        "## Task 1 - Filter rows\n",
        "\n",
        "**Input:** trips dataset\n",
        "\n",
        "### Task 1.1 - Remove \"0 distance\" and 'no passengers' records\n",
        "\n",
        "Remove dataset rows that represent invalid trips:\n",
        "\n",
        "- Trips where `trip_distance == 0` (no distance travelled)\n",
        "- Trips where `passenger_count == 0` and `total_amount == 0` (we want to retain records where `total_amount` > 0 - these may be significant as the taxi may have carried some parcel, for example)\n",
        "\n",
        "Altogether, a record is removed if it satisfies the following conditions:\n",
        "\n",
        "`trip_distance == 0` or `(passenger_count == 0` and `total_amount == 0)`.\n",
        "\n",
        "**Recommended:** Select only the relevant dataset columns for this and subsequent tasks: `['PULocationID', 'DOLocationID', 'trip_distance', 'passenger_count', 'total_amount')]`\n",
        "\n",
        "### Task 1.2 - Remove outliers using the modified z-score\n",
        "\n",
        "Despite having removed spurious \"zero passengers\" trips in task 1.1, columns `total_amount` and `trip_distance` contain additional outlier values that must be identified and removed.\n",
        "\n",
        "To identify and remove outliers, you will use the modified [z-score](https://en.wikipedia.org/wiki/Standard_score) method.\n",
        "The modified z-score uses the median and [Median Absolute Deviation](https://en.wikipedia.org/wiki/Median_absolute_deviation) (MAD), instead of the mean and standard deviation, to determine how far an observation (indexed by i) is from the mean:\n",
        "\n",
        "$$z_i = \\frac{x_i - \\mathit{median}(\\mathbf{x})}{\\mathbf{MAD}},$$\n",
        "\n",
        "where x represents the input vector, xi is an element of x and zi is its corresponding z-score. In turn, the MAD formula is:\n",
        "\n",
        "$$\\mathbf{MAD} = 1.483 * \\mathit{median}(\\big\\lvert x_i - \\mathit{median}(\\mathbf{x})\\big\\rvert).$$\n",
        "\n",
        "Observations with **high** (absolute) z-score are considered outlier observations. A score is considered **high** if its __absolute z-score__ is larger than a threshold T = 3.5:\n",
        "\n",
        "$$\\big\\lvert z_i \\big\\rvert > 3.5.$$\n",
        "\n",
        "where T represents the number of unit standard deviations beyond which a score is considered an outlier ([wiki](https://en.wikipedia.org/wiki/68%E2%80%9395%E2%80%9399.7_rule)).\n",
        "\n",
        "This process is repeated twice, once for each of the columns `total_amount` and `trip_distance` (in any order).\n",
        "\n",
        "**Important:** Use the surrogate function [`percentile_approx`](https://spark.apache.org/docs/3.2.0/api/python/reference/api/pyspark.sql.functions.percentile_approx.html?highlight=percentile#pyspark.sql.functions.percentile_approx) to estimate the median (calculating the median values for a column is expensive as it cannot be parallelised efficiently)."
      ]
    },
    {
      "cell_type": "code",
      "execution_count": null,
      "metadata": {
        "application/vnd.databricks.v1+cell": {
          "inputWidgets": {},
          "nuid": "b53021ef-a0ab-43be-8885-142617707a5c",
          "showTitle": false,
          "title": ""
        },
        "id": "2zZdRxCzctI_",
        "outputId": "bab45465-671f-46e3-9f5d-6dbefcd4f290"
      },
      "outputs": [
        {
          "data": {
            "text/html": [
              "<style scoped>\n",
              "  .ansiout {\n",
              "    display: block;\n",
              "    unicode-bidi: embed;\n",
              "    white-space: pre-wrap;\n",
              "    word-wrap: break-word;\n",
              "    word-break: break-all;\n",
              "    font-family: \"Source Code Pro\", \"Menlo\", monospace;;\n",
              "    font-size: 13px;\n",
              "    color: #555;\n",
              "    margin-left: 4px;\n",
              "    line-height: 19px;\n",
              "  }\n",
              "</style>"
            ]
          },
          "metadata": {
            "application/vnd.databricks.v1+output": {
              "arguments": {},
              "data": "",
              "errorSummary": "",
              "errorTraceType": null,
              "metadata": {},
              "type": "ipynbError"
            }
          },
          "output_type": "display_data"
        }
      ],
      "source": [
        "# develop your solution here (create/destroy cells as needed) and then implement it in the functions below"
      ]
    },
    {
      "cell_type": "code",
      "execution_count": 11,
      "metadata": {
        "application/vnd.databricks.v1+cell": {
          "inputWidgets": {},
          "nuid": "4ac2d5d7-21d4-4bbb-b2ea-0e6e4df89a58",
          "showTitle": false,
          "title": ""
        },
        "id": "zRsDFQEpctI_"
      },
      "outputs": [],
      "source": [
        "# Your solution implementation to task 1.1 goes HERE\n",
        "def t11_remove_zeros(df):\n",
        "    # Select only relevant columns\n",
        "    df = df.select(\"PULocationID\", \"DOLocationID\", \"trip_distance\", \"passenger_count\", \"total_amount\")\n",
        "\n",
        "    # Ensure correct data types (avoids issues with string-based filtering)\n",
        "    df = df.withColumn(\"trip_distance\", pf.col(\"trip_distance\").cast(\"double\")) \\\n",
        "           .withColumn(\"passenger_count\", pf.col(\"passenger_count\").cast(\"int\")) \\\n",
        "           .withColumn(\"total_amount\", pf.col(\"total_amount\").cast(\"double\"))\n",
        "\n",
        "    # Apply filtering conditions:\n",
        "    df_filtered = df.filter(\n",
        "        (pf.col(\"trip_distance\") > 0) &\n",
        "        ~((pf.col(\"passenger_count\") == 0) & (pf.col(\"total_amount\") == 0))\n",
        "    )\n",
        "\n",
        "    return df_filtered"
      ]
    },
    {
      "cell_type": "code",
      "execution_count": 12,
      "metadata": {
        "application/vnd.databricks.v1+cell": {
          "inputWidgets": {},
          "nuid": "3c6c287d-8707-4989-8ee9-2967a486c925",
          "showTitle": false,
          "title": ""
        },
        "id": "_NE09_DTctJA",
        "outputId": "594c10f2-7e9a-4ac5-c0da-be86ba6bbea5",
        "colab": {
          "base_uri": "https://localhost:8080/"
        }
      },
      "outputs": [
        {
          "output_type": "stream",
          "name": "stdout",
          "text": [
            "Row count: 15,350,075\n"
          ]
        }
      ],
      "source": [
        "# execute task 1.1\n",
        "trips_11 = t11_remove_zeros(trips)\n",
        "\n",
        "print_count(trips_11)\n",
        "\n",
        "## uncomment only for smaller datasets\n",
        "# display(trips_11.take(10))"
      ]
    },
    {
      "cell_type": "code",
      "execution_count": 13,
      "metadata": {
        "application/vnd.databricks.v1+cell": {
          "inputWidgets": {},
          "nuid": "c0162cd3-d060-495d-9a86-ebf4a6f507ac",
          "showTitle": false,
          "title": ""
        },
        "id": "ZhejsBYActJA"
      },
      "outputs": [],
      "source": [
        "# Your solution implementation to task 1.2 goes HERE\n",
        "def t12_remove_outliers(df):\n",
        "\n",
        "    # Function to calculate the modified z-score and filter out outliers\n",
        "    def remove_outliers_from_column(df, column):\n",
        "        # Calculate median\n",
        "        median_value = df.select(pf.percentile_approx(column, 0.5)).first()[0]\n",
        "\n",
        "        # Calculate MAD\n",
        "        mad_value = (\n",
        "            df.select(pf.expr(f\"1.483 * percentile_approx(abs({column} - {median_value}), 0.5)\")).first()[0]\n",
        "        )\n",
        "\n",
        "        # Calculate modified z-score\n",
        "        df = df.withColumn(\"modified_z_score\",\n",
        "                           (pf.col(column) - median_value) / mad_value)\n",
        "\n",
        "        # Filter outliers\n",
        "        df_filtered = df.filter(pf.abs(pf.col(\"modified_z_score\")) <= 3.5)\n",
        "\n",
        "        # Drop the modified z-score column\n",
        "        return df_filtered.drop(\"modified_z_score\")\n",
        "\n",
        "    # Remove outliers from total_amount\n",
        "    df = remove_outliers_from_column(df, \"total_amount\")\n",
        "\n",
        "    # Remove outliers from trip_distance\n",
        "    df = remove_outliers_from_column(df, \"trip_distance\")\n",
        "\n",
        "    return df"
      ]
    },
    {
      "cell_type": "code",
      "execution_count": 14,
      "metadata": {
        "application/vnd.databricks.v1+cell": {
          "inputWidgets": {},
          "nuid": "96533a0e-242b-42d6-bc10-3b1ea3a13681",
          "showTitle": false,
          "title": ""
        },
        "id": "yPLMX61mctJA",
        "outputId": "2ba58908-d145-44e6-99f2-1239000ee888",
        "colab": {
          "base_uri": "https://localhost:8080/"
        }
      },
      "outputs": [
        {
          "output_type": "stream",
          "name": "stdout",
          "text": [
            "Row count: 13,277,877\n"
          ]
        }
      ],
      "source": [
        "# execute task 1.2\n",
        "trips_12 = t12_remove_outliers(trips_11)\n",
        "\n",
        "print_count(trips_12)\n",
        "# display(trips_12.take(10))"
      ]
    },
    {
      "cell_type": "markdown",
      "metadata": {
        "application/vnd.databricks.v1+cell": {
          "inputWidgets": {},
          "nuid": "77f3f561-5d39-46bf-84fa-0b0c3aafa0cc",
          "showTitle": false,
          "title": ""
        },
        "id": "mrw3DzARctJA"
      },
      "source": [
        "## Task 2 - Compute new columns\n",
        "\n",
        "### Task 2.1 - Zone names\n",
        "\n",
        "Obtain the **start** and **end** zone names of each trip by joining the `trips` and `zone_names` datasets (i.e. by using the `zone_names` dataset as lookup table).\n",
        "\n",
        "**Note:** The columns containing the start and end zone ids of each trip are named `PULocationID` and `DOLocationID`, respectively.\n",
        "\n",
        "### Task 2.2 - Unit profitability\n",
        "\n",
        "Compute the column `unit_profitabilty = total_amount / trip_distance`."
      ]
    },
    {
      "cell_type": "code",
      "execution_count": null,
      "metadata": {
        "application/vnd.databricks.v1+cell": {
          "inputWidgets": {},
          "nuid": "a61d8288-1539-4f34-856f-98aa7fd0f7f4",
          "showTitle": false,
          "title": ""
        },
        "id": "Oe39PKQVctJA"
      },
      "outputs": [],
      "source": [
        "# develop your solution here (create/destroy cells as needed) and then implement it in the functions below"
      ]
    },
    {
      "cell_type": "code",
      "execution_count": 15,
      "metadata": {
        "application/vnd.databricks.v1+cell": {
          "inputWidgets": {},
          "nuid": "bf0cd0ff-8d0a-4b46-82de-e2edd56e2f10",
          "showTitle": false,
          "title": ""
        },
        "id": "75nNlOd8ctJA"
      },
      "outputs": [],
      "source": [
        "# Your solution implementation to task 2.1 goes HERE\n",
        "def t21_join_zones(df, zones_df=zone_names):\n",
        "    \"\"\"\n",
        "    Joins the trips DataFrame with the zone_names DataFrame to obtain\n",
        "    the start and end zone names for each trip.\n",
        "\n",
        "    Args:\n",
        "        df (DataFrame): The trips DataFrame (output of Task 1.2).\n",
        "        zones_df (DataFrame): The zone_names DataFrame containing zone information.\n",
        "\n",
        "    Returns:\n",
        "        DataFrame: The joined DataFrame with additional columns for start and end zone names.\n",
        "    \"\"\"\n",
        "    # Join the trips DataFrame with the zone_names DataFrame for start zone\n",
        "    df = df.join(zones_df, df.PULocationID == zones_df.LocationID, how=\"left\") \\\n",
        "            .drop(zones_df.LocationID)  # Drop the duplicated LocationID column\n",
        "\n",
        "    # Rename the start zone column\n",
        "    df = df.withColumnRenamed(\"Zone\", \"StartZone\")\n",
        "\n",
        "    # Join the trips DataFrame with the zone_names DataFrame for end zone\n",
        "    df = df.join(zones_df, df.DOLocationID == zones_df.LocationID, how=\"left\") \\\n",
        "            .drop(zones_df.LocationID)  # Drop the duplicated LocationID column\n",
        "\n",
        "    # Rename the end zone column\n",
        "    df = df.withColumnRenamed(\"Zone\", \"EndZone\")\n",
        "\n",
        "    return df"
      ]
    },
    {
      "cell_type": "code",
      "execution_count": 16,
      "metadata": {
        "application/vnd.databricks.v1+cell": {
          "inputWidgets": {},
          "nuid": "6a3abc15-94bb-4352-964f-e3919956b363",
          "showTitle": false,
          "title": ""
        },
        "id": "rph4vUGuctJA",
        "outputId": "f68f8ce9-4cee-4157-b4fb-9306237d8fef",
        "colab": {
          "base_uri": "https://localhost:8080/"
        }
      },
      "outputs": [
        {
          "output_type": "stream",
          "name": "stdout",
          "text": [
            "Row count: 13,277,877\n"
          ]
        }
      ],
      "source": [
        "# execute task 2.1\n",
        "trips_21 = t21_join_zones(trips_12, zones_df = zone_names)\n",
        "\n",
        "print_count(trips_21)\n",
        "# display(trips_21.take(10))"
      ]
    },
    {
      "cell_type": "code",
      "execution_count": 17,
      "metadata": {
        "application/vnd.databricks.v1+cell": {
          "inputWidgets": {},
          "nuid": "244ecaed-2632-4ed1-ab91-e41d8a91b7c2",
          "showTitle": false,
          "title": ""
        },
        "id": "3lfhUQ9NctJA"
      },
      "outputs": [],
      "source": [
        "# Your solution implementation to task 2.2 goes HERE\n",
        "def t22_calc_profit(df):\n",
        "    # Calculate unit profitability, while avoiding division by zero errors\n",
        "    df = df.withColumn(\n",
        "        \"unit_profitability\",\n",
        "        pf.when(pf.col(\"trip_distance\") != 0, pf.col(\"total_amount\") / pf.col(\"trip_distance\"))\n",
        "        .otherwise(None)  # Set to None or 0 if trip_distance is zero\n",
        "    )\n",
        "    return df"
      ]
    },
    {
      "cell_type": "code",
      "execution_count": 18,
      "metadata": {
        "application/vnd.databricks.v1+cell": {
          "inputWidgets": {},
          "nuid": "a3528be7-4fe2-4e68-a94b-a3b33ada952c",
          "showTitle": false,
          "title": ""
        },
        "id": "-x4eqJjxctJA",
        "outputId": "05890741-6c2b-4b19-dcbe-cd1652a8269f",
        "colab": {
          "base_uri": "https://localhost:8080/"
        }
      },
      "outputs": [
        {
          "output_type": "stream",
          "name": "stdout",
          "text": [
            "Row count: 13,277,877\n"
          ]
        }
      ],
      "source": [
        "# execute task 2.2\n",
        "trips_22 = t22_calc_profit(trips_21)\n",
        "\n",
        "print_count(trips_22)\n",
        "# display(trips_22.take(10))"
      ]
    },
    {
      "cell_type": "markdown",
      "metadata": {
        "application/vnd.databricks.v1+cell": {
          "inputWidgets": {},
          "nuid": "93c4a6e7-512f-40a8-ad2c-41a84ade373f",
          "showTitle": false,
          "title": ""
        },
        "id": "uLWV8gsVctJA"
      },
      "source": [
        "## Task 3: Rank zones by traffic, passenger volume and profitability\n",
        "\n",
        "### 3.1 - Summarise interzonal travel\n",
        "\n",
        "Build a graph data structure of zone-to-zone traffic, representing aggregated data about trips between any two zones. The graph will have one node for each zone and one edge connecting each pair of zones. In addition, edges contain aggregate information about all trips between those zones.\n",
        "\n",
        "For example, zones Z1 and Z2 are connected by *two* edges: edge Z1 --> Z2 carries aggregate data about all trips that originated in Z1 and ended in Z2, and edge Z2 --> Z2 carries aggregate data about all trips that originated in Z2 and ended in Z1.\n",
        "\n",
        "The aggregate information of interzonal travel must include the following data:\n",
        "\n",
        "- `average_unit_profit` - the average unit profitability (calculated as `mean(unit_profitabilty)`).\n",
        "- `trips_count` -- the total number of recorded trips.\n",
        "- `total_passengers` -- the total number of passenger across all trips (sum of `passenger_count`).\n",
        "\n",
        "This graph can be represented as a new dataframe, with schema:\n",
        "\n",
        "\\[`PULocationID`, `DOLocationID`, `average_unit_profit`, `trips_count`, `total_passengers` \\]\n",
        "\n",
        "__hint__: the `groupby()` operator produces a `pyspark.sql.GroupedData` structure. You can then calculate multiple aggregations from this using `pyspark.sql.GroupedData.agg()`:\n",
        "- https://spark.apache.org/docs/3.2.0/api/python/reference/pyspark.pandas/api/pyspark.pandas.DataFrame.groupby.html\n",
        "- https://spark.apache.org/docs/3.2.0/api/python/reference/api/pyspark.sql.GroupedData.agg.html\n",
        "\n",
        "### Task 3.2 - Obtain top-10 zones\n",
        "\n",
        "For each of the following measures, report the top-10 zones _using their plain names you dereferenced in the previous step, not the codes_. Note that this requires ranking the nodes in different orders. Specifically, you need to calculate the following further aggregations:\n",
        "\n",
        "- the **total** number of trips originating from Z. This is simply the sum of `trips_count` over all outgoing edges for Z, i.e., edges of the form Z -> \\*\n",
        "- the **average** profitability of a zone. This is the average of all `average_unit_profit` over all *outgoing* edges from Z.\n",
        "- The **total** passenger volume measured as the **sum** of `total_passengers` carried in trips that originate from Z"
      ]
    },
    {
      "cell_type": "code",
      "execution_count": null,
      "metadata": {
        "application/vnd.databricks.v1+cell": {
          "inputWidgets": {},
          "nuid": "069fc68b-acdd-47c2-be12-27d32b7916c8",
          "showTitle": false,
          "title": ""
        },
        "id": "bcS_VhPActJA",
        "outputId": "71e2ad52-ac64-44c6-d324-e963c499d19f"
      },
      "outputs": [
        {
          "data": {
            "text/html": [
              "<style scoped>\n",
              "  .ansiout {\n",
              "    display: block;\n",
              "    unicode-bidi: embed;\n",
              "    white-space: pre-wrap;\n",
              "    word-wrap: break-word;\n",
              "    word-break: break-all;\n",
              "    font-family: \"Source Code Pro\", \"Menlo\", monospace;;\n",
              "    font-size: 13px;\n",
              "    color: #555;\n",
              "    margin-left: 4px;\n",
              "    line-height: 19px;\n",
              "  }\n",
              "</style>"
            ]
          },
          "metadata": {
            "application/vnd.databricks.v1+output": {
              "arguments": {},
              "data": "",
              "errorSummary": "",
              "errorTraceType": null,
              "metadata": {},
              "type": "ipynbError"
            }
          },
          "output_type": "display_data"
        }
      ],
      "source": [
        "# develop your solution here (create/destroy cells as needed) and then implement it in the functions below"
      ]
    },
    {
      "cell_type": "code",
      "execution_count": 19,
      "metadata": {
        "application/vnd.databricks.v1+cell": {
          "inputWidgets": {},
          "nuid": "38084194-2635-46aa-ac74-93509c03a86e",
          "showTitle": false,
          "title": ""
        },
        "id": "KctKEwu5ctJA"
      },
      "outputs": [],
      "source": [
        "## Your solution to task 3.1 goes HERE\n",
        "def t31_summarise_trips(df):\n",
        "\n",
        "    # Group by origin and destination locations (PULocationID and DOLocationID)\n",
        "    df_summarised = df.groupBy(\"PULocationID\", \"DOLocationID\").agg(\n",
        "        # Calculate average unit profitability\n",
        "        pf.avg(\"unit_profitability\").alias(\"average_unit_profit\"),\n",
        "\n",
        "        # Count the number of trips\n",
        "        pf.count(\"unit_profitability\").alias(\"trips_count\"),\n",
        "\n",
        "        # Sum the number of passengers\n",
        "        pf.sum(\"passenger_count\").alias(\"total_passengers\")\n",
        "    )\n",
        "\n",
        "    return df_summarised\n"
      ]
    },
    {
      "cell_type": "code",
      "execution_count": 20,
      "metadata": {
        "application/vnd.databricks.v1+cell": {
          "inputWidgets": {},
          "nuid": "b81c74ad-e5f1-4b69-a320-bdf375b94e8d",
          "showTitle": false,
          "title": ""
        },
        "id": "tAsNBMRActJA",
        "outputId": "309bb530-56fd-4d69-b98b-d209a0c92340",
        "colab": {
          "base_uri": "https://localhost:8080/"
        }
      },
      "outputs": [
        {
          "output_type": "stream",
          "name": "stdout",
          "text": [
            "Row count: 15,270\n"
          ]
        }
      ],
      "source": [
        "# execute task 3.1\n",
        "graph = t31_summarise_trips(trips_22)\n",
        "\n",
        "print_count(graph)\n",
        "# display(graph.take(10))"
      ]
    },
    {
      "cell_type": "code",
      "execution_count": 21,
      "metadata": {
        "application/vnd.databricks.v1+cell": {
          "inputWidgets": {},
          "nuid": "c285cd2d-861b-4790-8fe8-4b4b6cdbc8f4",
          "showTitle": false,
          "title": ""
        },
        "id": "9ezqisgfctJA"
      },
      "outputs": [],
      "source": [
        "# Your solution to task 3.2 goes HERE (implement each of the functions below)\n",
        "def t32_summarise_zones_pairs(df, zones_df=zone_names):\n",
        "\n",
        "    # Group by origin (PULocationID) and aggregate metrics\n",
        "    zone_summary = df.groupBy(\"PULocationID\").agg(\n",
        "        # Total number of trips originating from each zone\n",
        "        pf.sum(\"trips_count\").alias(\"total_trips\"),\n",
        "\n",
        "        # Average profitability for the zone\n",
        "        pf.avg(\"average_unit_profit\").alias(\"average_profitability\"),\n",
        "\n",
        "        # Total number of passengers for trips originating from the zone\n",
        "        pf.sum(\"total_passengers\").alias(\"total_passenger_volume\")\n",
        "    )\n",
        "\n",
        "    # Join with zone names to get the plain names of the zones\n",
        "    result = zone_summary.join(zones_df, zone_summary.PULocationID == zones_df.LocationID, how=\"left\") \\\n",
        "        .drop(zones_df.LocationID)  # Drop the duplicated LocationID column\n",
        "\n",
        "    result.cache()\n",
        "    return result\n",
        "\n",
        "\n",
        "# Top 10 ranked zones by traffic (trip volume)\n",
        "def t32_top10_trips(df_zones):\n",
        "    df_sorted = df_zones.orderBy(pf.desc(\"total_trips\")).limit(10)\n",
        "    df_sorted.show()  # Debugging step\n",
        "    return df_sorted.select(\"Zone\", \"total_trips\").toPandas()\n",
        "\n",
        "# Top 10 ranked zones by profit\n",
        "def t32_top10_profit(df_zones):\n",
        "    df_sorted = df_zones.orderBy(pf.desc(\"average_profitability\")).limit(10)\n",
        "    df_sorted.show()  # Debugging step\n",
        "    return df_sorted.select(\"Zone\", \"average_profitability\").toPandas()\n",
        "\n",
        "# Top 10 ranked zones by passenger volume\n",
        "def t32_top10_passenger(df_zones):\n",
        "    df_sorted = df_zones.orderBy(pf.desc(\"total_passenger_volume\")).limit(10)\n",
        "    df_sorted.show()  # Debugging step\n",
        "    return df_sorted.select(\"Zone\", \"total_passenger_volume\").toPandas()"
      ]
    },
    {
      "cell_type": "code",
      "execution_count": 22,
      "metadata": {
        "application/vnd.databricks.v1+cell": {
          "inputWidgets": {},
          "nuid": "0bb32624-cca2-461e-816d-c49ecc98374e",
          "showTitle": false,
          "title": ""
        },
        "id": "yvHt4_lTctJB",
        "outputId": "f6566b77-0b88-457f-a4f2-88f553459c21",
        "colab": {
          "base_uri": "https://localhost:8080/"
        }
      },
      "outputs": [
        {
          "output_type": "stream",
          "name": "stdout",
          "text": [
            "Total rows in zones: 262\n",
            "+------------+-----------+---------------------+----------------------+----------+---------+--------------------+------------+\n",
            "|PULocationID|total_trips|average_profitability|total_passenger_volume|LocationID|  Borough|                Zone|service_zone|\n",
            "+------------+-----------+---------------------+----------------------+----------+---------+--------------------+------------+\n",
            "|         237|     744823|    8.268309733602804|               1031330|       237|Manhattan|Upper East Side S...| Yellow Zone|\n",
            "|         236|     698432|       9.614691292714|                967495|       236|Manhattan|Upper East Side N...| Yellow Zone|\n",
            "|         161|     469331|    7.989590029406091|                650112|       161|Manhattan|      Midtown Center| Yellow Zone|\n",
            "|         186|     459861|    8.595460640361217|                635555|       186|Manhattan|Penn Station/Madi...| Yellow Zone|\n",
            "|         142|     448472|    43.25784528168865|                629166|       142|Manhattan| Lincoln Square East| Yellow Zone|\n",
            "|         239|     444632|    16.58896690932119|                627604|       239|Manhattan|Upper West Side S...| Yellow Zone|\n",
            "|         170|     441061|     8.48731871562311|                605190|       170|Manhattan|         Murray Hill| Yellow Zone|\n",
            "|         141|     440117|    7.418220125801488|                608393|       141|Manhattan|     Lenox Hill West| Yellow Zone|\n",
            "|         162|     419586|    9.857307441528755|                575590|       162|Manhattan|        Midtown East| Yellow Zone|\n",
            "|         234|     377839|   13.808419172047921|                527654|       234|Manhattan|            Union Sq| Yellow Zone|\n",
            "+------------+-----------+---------------------+----------------------+----------+---------+--------------------+------------+\n",
            "\n",
            "+------------+-----------+---------------------+----------------------+----------+-------------+--------------------+------------+\n",
            "|PULocationID|total_trips|average_profitability|total_passenger_volume|LocationID|      Borough|                Zone|service_zone|\n",
            "+------------+-----------+---------------------+----------------------+----------+-------------+--------------------+------------+\n",
            "|          15|        262|    201.4724515570809|                    31|        15|       Queens|Bay Terrace/Fort ...|   Boro Zone|\n",
            "|         156|         10|   197.76580488628338|                     2|       156|Staten Island|     Mariners Harbor|   Boro Zone|\n",
            "|          73|        175|   119.51693123064463|                    19|        73|       Queens|       East Flushing|   Boro Zone|\n",
            "|         204|          3|             111.5625|                     1|       204|Staten Island|   Rossville/Woodrow|   Boro Zone|\n",
            "|           1|         29|    94.13326589536474|                    43|         1|          EWR|      Newark Airport|         EWR|\n",
            "|         245|          4|    87.37120340543028|                     6|       245|Staten Island|       West Brighton|   Boro Zone|\n",
            "|         203|        218|    87.16633629209176|                    51|       203|       Queens|            Rosedale|   Boro Zone|\n",
            "|         131|       1395|    85.96462996286729|                   176|       131|       Queens|     Jamaica Estates|   Boro Zone|\n",
            "|          14|       1919|      84.675391058027|                   267|        14|     Brooklyn|           Bay Ridge|   Boro Zone|\n",
            "|         218|       1439|    84.00762913235866|                   114|       218|       Queens|Springfield Garde...|   Boro Zone|\n",
            "+------------+-----------+---------------------+----------------------+----------+-------------+--------------------+------------+\n",
            "\n",
            "+------------+-----------+---------------------+----------------------+----------+---------+--------------------+------------+\n",
            "|PULocationID|total_trips|average_profitability|total_passenger_volume|LocationID|  Borough|                Zone|service_zone|\n",
            "+------------+-----------+---------------------+----------------------+----------+---------+--------------------+------------+\n",
            "|         237|     744823|    8.268309733602804|               1031330|       237|Manhattan|Upper East Side S...| Yellow Zone|\n",
            "|         236|     698432|       9.614691292714|                967495|       236|Manhattan|Upper East Side N...| Yellow Zone|\n",
            "|         161|     469331|    7.989590029406091|                650112|       161|Manhattan|      Midtown Center| Yellow Zone|\n",
            "|         186|     459861|    8.595460640361217|                635555|       186|Manhattan|Penn Station/Madi...| Yellow Zone|\n",
            "|         142|     448472|    43.25784528168865|                629166|       142|Manhattan| Lincoln Square East| Yellow Zone|\n",
            "|         239|     444632|    16.58896690932119|                627604|       239|Manhattan|Upper West Side S...| Yellow Zone|\n",
            "|         141|     440117|    7.418220125801488|                608393|       141|Manhattan|     Lenox Hill West| Yellow Zone|\n",
            "|         170|     441061|     8.48731871562311|                605190|       170|Manhattan|         Murray Hill| Yellow Zone|\n",
            "|         162|     419586|    9.857307441528755|                575590|       162|Manhattan|        Midtown East| Yellow Zone|\n",
            "|         234|     377839|   13.808419172047921|                527654|       234|Manhattan|            Union Sq| Yellow Zone|\n",
            "+------------+-----------+---------------------+----------------------+----------+---------+--------------------+------------+\n",
            "\n"
          ]
        }
      ],
      "source": [
        "# execute task 3.2\n",
        "zones = t32_summarise_zones_pairs(graph)\n",
        "\n",
        "print(\"Total rows in zones:\", zones.count())\n",
        "\n",
        "top10_trips     = t32_top10_trips(zones)\n",
        "top10_profit    = t32_top10_profit(zones)\n",
        "top10_passenger = t32_top10_passenger(zones)"
      ]
    },
    {
      "cell_type": "code",
      "execution_count": 24,
      "metadata": {
        "application/vnd.databricks.v1+cell": {
          "inputWidgets": {},
          "nuid": "382adcca-e15c-45d2-88bf-6ae97b8c6e30",
          "showTitle": false,
          "title": ""
        },
        "id": "dvhzlqPkctJB",
        "outputId": "23295fdd-e447-4228-ef58-f2032fb273ee",
        "colab": {
          "base_uri": "https://localhost:8080/",
          "height": 363
        }
      },
      "outputs": [
        {
          "output_type": "display_data",
          "data": {
            "text/plain": [
              "                           Zone  total_trips\n",
              "0         Upper East Side South       744823\n",
              "1         Upper East Side North       698432\n",
              "2                Midtown Center       469331\n",
              "3  Penn Station/Madison Sq West       459861\n",
              "4           Lincoln Square East       448472\n",
              "5         Upper West Side South       444632\n",
              "6                   Murray Hill       441061\n",
              "7               Lenox Hill West       440117\n",
              "8                  Midtown East       419586\n",
              "9                      Union Sq       377839"
            ],
            "text/html": [
              "\n",
              "  <div id=\"df-0032366a-4d9c-42b6-9c5d-cfcc45bef86b\" class=\"colab-df-container\">\n",
              "    <div>\n",
              "<style scoped>\n",
              "    .dataframe tbody tr th:only-of-type {\n",
              "        vertical-align: middle;\n",
              "    }\n",
              "\n",
              "    .dataframe tbody tr th {\n",
              "        vertical-align: top;\n",
              "    }\n",
              "\n",
              "    .dataframe thead th {\n",
              "        text-align: right;\n",
              "    }\n",
              "</style>\n",
              "<table border=\"1\" class=\"dataframe\">\n",
              "  <thead>\n",
              "    <tr style=\"text-align: right;\">\n",
              "      <th></th>\n",
              "      <th>Zone</th>\n",
              "      <th>total_trips</th>\n",
              "    </tr>\n",
              "  </thead>\n",
              "  <tbody>\n",
              "    <tr>\n",
              "      <th>0</th>\n",
              "      <td>Upper East Side South</td>\n",
              "      <td>744823</td>\n",
              "    </tr>\n",
              "    <tr>\n",
              "      <th>1</th>\n",
              "      <td>Upper East Side North</td>\n",
              "      <td>698432</td>\n",
              "    </tr>\n",
              "    <tr>\n",
              "      <th>2</th>\n",
              "      <td>Midtown Center</td>\n",
              "      <td>469331</td>\n",
              "    </tr>\n",
              "    <tr>\n",
              "      <th>3</th>\n",
              "      <td>Penn Station/Madison Sq West</td>\n",
              "      <td>459861</td>\n",
              "    </tr>\n",
              "    <tr>\n",
              "      <th>4</th>\n",
              "      <td>Lincoln Square East</td>\n",
              "      <td>448472</td>\n",
              "    </tr>\n",
              "    <tr>\n",
              "      <th>5</th>\n",
              "      <td>Upper West Side South</td>\n",
              "      <td>444632</td>\n",
              "    </tr>\n",
              "    <tr>\n",
              "      <th>6</th>\n",
              "      <td>Murray Hill</td>\n",
              "      <td>441061</td>\n",
              "    </tr>\n",
              "    <tr>\n",
              "      <th>7</th>\n",
              "      <td>Lenox Hill West</td>\n",
              "      <td>440117</td>\n",
              "    </tr>\n",
              "    <tr>\n",
              "      <th>8</th>\n",
              "      <td>Midtown East</td>\n",
              "      <td>419586</td>\n",
              "    </tr>\n",
              "    <tr>\n",
              "      <th>9</th>\n",
              "      <td>Union Sq</td>\n",
              "      <td>377839</td>\n",
              "    </tr>\n",
              "  </tbody>\n",
              "</table>\n",
              "</div>\n",
              "    <div class=\"colab-df-buttons\">\n",
              "\n",
              "  <div class=\"colab-df-container\">\n",
              "    <button class=\"colab-df-convert\" onclick=\"convertToInteractive('df-0032366a-4d9c-42b6-9c5d-cfcc45bef86b')\"\n",
              "            title=\"Convert this dataframe to an interactive table.\"\n",
              "            style=\"display:none;\">\n",
              "\n",
              "  <svg xmlns=\"http://www.w3.org/2000/svg\" height=\"24px\" viewBox=\"0 -960 960 960\">\n",
              "    <path d=\"M120-120v-720h720v720H120Zm60-500h600v-160H180v160Zm220 220h160v-160H400v160Zm0 220h160v-160H400v160ZM180-400h160v-160H180v160Zm440 0h160v-160H620v160ZM180-180h160v-160H180v160Zm440 0h160v-160H620v160Z\"/>\n",
              "  </svg>\n",
              "    </button>\n",
              "\n",
              "  <style>\n",
              "    .colab-df-container {\n",
              "      display:flex;\n",
              "      gap: 12px;\n",
              "    }\n",
              "\n",
              "    .colab-df-convert {\n",
              "      background-color: #E8F0FE;\n",
              "      border: none;\n",
              "      border-radius: 50%;\n",
              "      cursor: pointer;\n",
              "      display: none;\n",
              "      fill: #1967D2;\n",
              "      height: 32px;\n",
              "      padding: 0 0 0 0;\n",
              "      width: 32px;\n",
              "    }\n",
              "\n",
              "    .colab-df-convert:hover {\n",
              "      background-color: #E2EBFA;\n",
              "      box-shadow: 0px 1px 2px rgba(60, 64, 67, 0.3), 0px 1px 3px 1px rgba(60, 64, 67, 0.15);\n",
              "      fill: #174EA6;\n",
              "    }\n",
              "\n",
              "    .colab-df-buttons div {\n",
              "      margin-bottom: 4px;\n",
              "    }\n",
              "\n",
              "    [theme=dark] .colab-df-convert {\n",
              "      background-color: #3B4455;\n",
              "      fill: #D2E3FC;\n",
              "    }\n",
              "\n",
              "    [theme=dark] .colab-df-convert:hover {\n",
              "      background-color: #434B5C;\n",
              "      box-shadow: 0px 1px 3px 1px rgba(0, 0, 0, 0.15);\n",
              "      filter: drop-shadow(0px 1px 2px rgba(0, 0, 0, 0.3));\n",
              "      fill: #FFFFFF;\n",
              "    }\n",
              "  </style>\n",
              "\n",
              "    <script>\n",
              "      const buttonEl =\n",
              "        document.querySelector('#df-0032366a-4d9c-42b6-9c5d-cfcc45bef86b button.colab-df-convert');\n",
              "      buttonEl.style.display =\n",
              "        google.colab.kernel.accessAllowed ? 'block' : 'none';\n",
              "\n",
              "      async function convertToInteractive(key) {\n",
              "        const element = document.querySelector('#df-0032366a-4d9c-42b6-9c5d-cfcc45bef86b');\n",
              "        const dataTable =\n",
              "          await google.colab.kernel.invokeFunction('convertToInteractive',\n",
              "                                                    [key], {});\n",
              "        if (!dataTable) return;\n",
              "\n",
              "        const docLinkHtml = 'Like what you see? Visit the ' +\n",
              "          '<a target=\"_blank\" href=https://colab.research.google.com/notebooks/data_table.ipynb>data table notebook</a>'\n",
              "          + ' to learn more about interactive tables.';\n",
              "        element.innerHTML = '';\n",
              "        dataTable['output_type'] = 'display_data';\n",
              "        await google.colab.output.renderOutput(dataTable, element);\n",
              "        const docLink = document.createElement('div');\n",
              "        docLink.innerHTML = docLinkHtml;\n",
              "        element.appendChild(docLink);\n",
              "      }\n",
              "    </script>\n",
              "  </div>\n",
              "\n",
              "\n",
              "<div id=\"df-7af92e6c-b23d-484e-8f92-d9266a26c845\">\n",
              "  <button class=\"colab-df-quickchart\" onclick=\"quickchart('df-7af92e6c-b23d-484e-8f92-d9266a26c845')\"\n",
              "            title=\"Suggest charts\"\n",
              "            style=\"display:none;\">\n",
              "\n",
              "<svg xmlns=\"http://www.w3.org/2000/svg\" height=\"24px\"viewBox=\"0 0 24 24\"\n",
              "     width=\"24px\">\n",
              "    <g>\n",
              "        <path d=\"M19 3H5c-1.1 0-2 .9-2 2v14c0 1.1.9 2 2 2h14c1.1 0 2-.9 2-2V5c0-1.1-.9-2-2-2zM9 17H7v-7h2v7zm4 0h-2V7h2v10zm4 0h-2v-4h2v4z\"/>\n",
              "    </g>\n",
              "</svg>\n",
              "  </button>\n",
              "\n",
              "<style>\n",
              "  .colab-df-quickchart {\n",
              "      --bg-color: #E8F0FE;\n",
              "      --fill-color: #1967D2;\n",
              "      --hover-bg-color: #E2EBFA;\n",
              "      --hover-fill-color: #174EA6;\n",
              "      --disabled-fill-color: #AAA;\n",
              "      --disabled-bg-color: #DDD;\n",
              "  }\n",
              "\n",
              "  [theme=dark] .colab-df-quickchart {\n",
              "      --bg-color: #3B4455;\n",
              "      --fill-color: #D2E3FC;\n",
              "      --hover-bg-color: #434B5C;\n",
              "      --hover-fill-color: #FFFFFF;\n",
              "      --disabled-bg-color: #3B4455;\n",
              "      --disabled-fill-color: #666;\n",
              "  }\n",
              "\n",
              "  .colab-df-quickchart {\n",
              "    background-color: var(--bg-color);\n",
              "    border: none;\n",
              "    border-radius: 50%;\n",
              "    cursor: pointer;\n",
              "    display: none;\n",
              "    fill: var(--fill-color);\n",
              "    height: 32px;\n",
              "    padding: 0;\n",
              "    width: 32px;\n",
              "  }\n",
              "\n",
              "  .colab-df-quickchart:hover {\n",
              "    background-color: var(--hover-bg-color);\n",
              "    box-shadow: 0 1px 2px rgba(60, 64, 67, 0.3), 0 1px 3px 1px rgba(60, 64, 67, 0.15);\n",
              "    fill: var(--button-hover-fill-color);\n",
              "  }\n",
              "\n",
              "  .colab-df-quickchart-complete:disabled,\n",
              "  .colab-df-quickchart-complete:disabled:hover {\n",
              "    background-color: var(--disabled-bg-color);\n",
              "    fill: var(--disabled-fill-color);\n",
              "    box-shadow: none;\n",
              "  }\n",
              "\n",
              "  .colab-df-spinner {\n",
              "    border: 2px solid var(--fill-color);\n",
              "    border-color: transparent;\n",
              "    border-bottom-color: var(--fill-color);\n",
              "    animation:\n",
              "      spin 1s steps(1) infinite;\n",
              "  }\n",
              "\n",
              "  @keyframes spin {\n",
              "    0% {\n",
              "      border-color: transparent;\n",
              "      border-bottom-color: var(--fill-color);\n",
              "      border-left-color: var(--fill-color);\n",
              "    }\n",
              "    20% {\n",
              "      border-color: transparent;\n",
              "      border-left-color: var(--fill-color);\n",
              "      border-top-color: var(--fill-color);\n",
              "    }\n",
              "    30% {\n",
              "      border-color: transparent;\n",
              "      border-left-color: var(--fill-color);\n",
              "      border-top-color: var(--fill-color);\n",
              "      border-right-color: var(--fill-color);\n",
              "    }\n",
              "    40% {\n",
              "      border-color: transparent;\n",
              "      border-right-color: var(--fill-color);\n",
              "      border-top-color: var(--fill-color);\n",
              "    }\n",
              "    60% {\n",
              "      border-color: transparent;\n",
              "      border-right-color: var(--fill-color);\n",
              "    }\n",
              "    80% {\n",
              "      border-color: transparent;\n",
              "      border-right-color: var(--fill-color);\n",
              "      border-bottom-color: var(--fill-color);\n",
              "    }\n",
              "    90% {\n",
              "      border-color: transparent;\n",
              "      border-bottom-color: var(--fill-color);\n",
              "    }\n",
              "  }\n",
              "</style>\n",
              "\n",
              "  <script>\n",
              "    async function quickchart(key) {\n",
              "      const quickchartButtonEl =\n",
              "        document.querySelector('#' + key + ' button');\n",
              "      quickchartButtonEl.disabled = true;  // To prevent multiple clicks.\n",
              "      quickchartButtonEl.classList.add('colab-df-spinner');\n",
              "      try {\n",
              "        const charts = await google.colab.kernel.invokeFunction(\n",
              "            'suggestCharts', [key], {});\n",
              "      } catch (error) {\n",
              "        console.error('Error during call to suggestCharts:', error);\n",
              "      }\n",
              "      quickchartButtonEl.classList.remove('colab-df-spinner');\n",
              "      quickchartButtonEl.classList.add('colab-df-quickchart-complete');\n",
              "    }\n",
              "    (() => {\n",
              "      let quickchartButtonEl =\n",
              "        document.querySelector('#df-7af92e6c-b23d-484e-8f92-d9266a26c845 button');\n",
              "      quickchartButtonEl.style.display =\n",
              "        google.colab.kernel.accessAllowed ? 'block' : 'none';\n",
              "    })();\n",
              "  </script>\n",
              "</div>\n",
              "\n",
              "  <div id=\"id_09efc3ac-1d2e-4150-b34b-add98b862e99\">\n",
              "    <style>\n",
              "      .colab-df-generate {\n",
              "        background-color: #E8F0FE;\n",
              "        border: none;\n",
              "        border-radius: 50%;\n",
              "        cursor: pointer;\n",
              "        display: none;\n",
              "        fill: #1967D2;\n",
              "        height: 32px;\n",
              "        padding: 0 0 0 0;\n",
              "        width: 32px;\n",
              "      }\n",
              "\n",
              "      .colab-df-generate:hover {\n",
              "        background-color: #E2EBFA;\n",
              "        box-shadow: 0px 1px 2px rgba(60, 64, 67, 0.3), 0px 1px 3px 1px rgba(60, 64, 67, 0.15);\n",
              "        fill: #174EA6;\n",
              "      }\n",
              "\n",
              "      [theme=dark] .colab-df-generate {\n",
              "        background-color: #3B4455;\n",
              "        fill: #D2E3FC;\n",
              "      }\n",
              "\n",
              "      [theme=dark] .colab-df-generate:hover {\n",
              "        background-color: #434B5C;\n",
              "        box-shadow: 0px 1px 3px 1px rgba(0, 0, 0, 0.15);\n",
              "        filter: drop-shadow(0px 1px 2px rgba(0, 0, 0, 0.3));\n",
              "        fill: #FFFFFF;\n",
              "      }\n",
              "    </style>\n",
              "    <button class=\"colab-df-generate\" onclick=\"generateWithVariable('top10_trips')\"\n",
              "            title=\"Generate code using this dataframe.\"\n",
              "            style=\"display:none;\">\n",
              "\n",
              "  <svg xmlns=\"http://www.w3.org/2000/svg\" height=\"24px\"viewBox=\"0 0 24 24\"\n",
              "       width=\"24px\">\n",
              "    <path d=\"M7,19H8.4L18.45,9,17,7.55,7,17.6ZM5,21V16.75L18.45,3.32a2,2,0,0,1,2.83,0l1.4,1.43a1.91,1.91,0,0,1,.58,1.4,1.91,1.91,0,0,1-.58,1.4L9.25,21ZM18.45,9,17,7.55Zm-12,3A5.31,5.31,0,0,0,4.9,8.1,5.31,5.31,0,0,0,1,6.5,5.31,5.31,0,0,0,4.9,4.9,5.31,5.31,0,0,0,6.5,1,5.31,5.31,0,0,0,8.1,4.9,5.31,5.31,0,0,0,12,6.5,5.46,5.46,0,0,0,6.5,12Z\"/>\n",
              "  </svg>\n",
              "    </button>\n",
              "    <script>\n",
              "      (() => {\n",
              "      const buttonEl =\n",
              "        document.querySelector('#id_09efc3ac-1d2e-4150-b34b-add98b862e99 button.colab-df-generate');\n",
              "      buttonEl.style.display =\n",
              "        google.colab.kernel.accessAllowed ? 'block' : 'none';\n",
              "\n",
              "      buttonEl.onclick = () => {\n",
              "        google.colab.notebook.generateWithVariable('top10_trips');\n",
              "      }\n",
              "      })();\n",
              "    </script>\n",
              "  </div>\n",
              "\n",
              "    </div>\n",
              "  </div>\n"
            ],
            "application/vnd.google.colaboratory.intrinsic+json": {
              "type": "dataframe",
              "variable_name": "top10_trips",
              "summary": "{\n  \"name\": \"top10_trips\",\n  \"rows\": 10,\n  \"fields\": [\n    {\n      \"column\": \"Zone\",\n      \"properties\": {\n        \"dtype\": \"string\",\n        \"num_unique_values\": 10,\n        \"samples\": [\n          \"Midtown East\",\n          \"Upper East Side North\",\n          \"Upper West Side South\"\n        ],\n        \"semantic_type\": \"\",\n        \"description\": \"\"\n      }\n    },\n    {\n      \"column\": \"total_trips\",\n      \"properties\": {\n        \"dtype\": \"number\",\n        \"std\": 122802,\n        \"min\": 377839,\n        \"max\": 744823,\n        \"num_unique_values\": 10,\n        \"samples\": [\n          419586,\n          698432,\n          444632\n        ],\n        \"semantic_type\": \"\",\n        \"description\": \"\"\n      }\n    }\n  ]\n}"
            }
          },
          "metadata": {}
        }
      ],
      "source": [
        "# use 'display()' or return a pandas DataFrame for 'pretty' output\n",
        "display(top10_trips)"
      ]
    },
    {
      "cell_type": "code",
      "execution_count": 25,
      "metadata": {
        "application/vnd.databricks.v1+cell": {
          "inputWidgets": {},
          "nuid": "847abfd1-7424-43c0-976e-5c615736a56b",
          "showTitle": false,
          "title": ""
        },
        "id": "WCNyq9kactJB",
        "outputId": "f7357c61-833d-4e34-ac2c-563d80ea8eb6",
        "colab": {
          "base_uri": "https://localhost:8080/",
          "height": 363
        }
      },
      "outputs": [
        {
          "output_type": "display_data",
          "data": {
            "text/plain": [
              "                        Zone  average_profitability\n",
              "0    Bay Terrace/Fort Totten                 201.47\n",
              "1            Mariners Harbor                 197.77\n",
              "2              East Flushing                 119.52\n",
              "3          Rossville/Woodrow                 111.56\n",
              "4             Newark Airport                  94.13\n",
              "5              West Brighton                  87.37\n",
              "6                   Rosedale                  87.17\n",
              "7            Jamaica Estates                  85.96\n",
              "8                  Bay Ridge                  84.68\n",
              "9  Springfield Gardens North                  84.01"
            ],
            "text/html": [
              "\n",
              "  <div id=\"df-c934417b-a5b9-4bc0-ae5c-3c1883b5ccc4\" class=\"colab-df-container\">\n",
              "    <div>\n",
              "<style scoped>\n",
              "    .dataframe tbody tr th:only-of-type {\n",
              "        vertical-align: middle;\n",
              "    }\n",
              "\n",
              "    .dataframe tbody tr th {\n",
              "        vertical-align: top;\n",
              "    }\n",
              "\n",
              "    .dataframe thead th {\n",
              "        text-align: right;\n",
              "    }\n",
              "</style>\n",
              "<table border=\"1\" class=\"dataframe\">\n",
              "  <thead>\n",
              "    <tr style=\"text-align: right;\">\n",
              "      <th></th>\n",
              "      <th>Zone</th>\n",
              "      <th>average_profitability</th>\n",
              "    </tr>\n",
              "  </thead>\n",
              "  <tbody>\n",
              "    <tr>\n",
              "      <th>0</th>\n",
              "      <td>Bay Terrace/Fort Totten</td>\n",
              "      <td>201.47</td>\n",
              "    </tr>\n",
              "    <tr>\n",
              "      <th>1</th>\n",
              "      <td>Mariners Harbor</td>\n",
              "      <td>197.77</td>\n",
              "    </tr>\n",
              "    <tr>\n",
              "      <th>2</th>\n",
              "      <td>East Flushing</td>\n",
              "      <td>119.52</td>\n",
              "    </tr>\n",
              "    <tr>\n",
              "      <th>3</th>\n",
              "      <td>Rossville/Woodrow</td>\n",
              "      <td>111.56</td>\n",
              "    </tr>\n",
              "    <tr>\n",
              "      <th>4</th>\n",
              "      <td>Newark Airport</td>\n",
              "      <td>94.13</td>\n",
              "    </tr>\n",
              "    <tr>\n",
              "      <th>5</th>\n",
              "      <td>West Brighton</td>\n",
              "      <td>87.37</td>\n",
              "    </tr>\n",
              "    <tr>\n",
              "      <th>6</th>\n",
              "      <td>Rosedale</td>\n",
              "      <td>87.17</td>\n",
              "    </tr>\n",
              "    <tr>\n",
              "      <th>7</th>\n",
              "      <td>Jamaica Estates</td>\n",
              "      <td>85.96</td>\n",
              "    </tr>\n",
              "    <tr>\n",
              "      <th>8</th>\n",
              "      <td>Bay Ridge</td>\n",
              "      <td>84.68</td>\n",
              "    </tr>\n",
              "    <tr>\n",
              "      <th>9</th>\n",
              "      <td>Springfield Gardens North</td>\n",
              "      <td>84.01</td>\n",
              "    </tr>\n",
              "  </tbody>\n",
              "</table>\n",
              "</div>\n",
              "    <div class=\"colab-df-buttons\">\n",
              "\n",
              "  <div class=\"colab-df-container\">\n",
              "    <button class=\"colab-df-convert\" onclick=\"convertToInteractive('df-c934417b-a5b9-4bc0-ae5c-3c1883b5ccc4')\"\n",
              "            title=\"Convert this dataframe to an interactive table.\"\n",
              "            style=\"display:none;\">\n",
              "\n",
              "  <svg xmlns=\"http://www.w3.org/2000/svg\" height=\"24px\" viewBox=\"0 -960 960 960\">\n",
              "    <path d=\"M120-120v-720h720v720H120Zm60-500h600v-160H180v160Zm220 220h160v-160H400v160Zm0 220h160v-160H400v160ZM180-400h160v-160H180v160Zm440 0h160v-160H620v160ZM180-180h160v-160H180v160Zm440 0h160v-160H620v160Z\"/>\n",
              "  </svg>\n",
              "    </button>\n",
              "\n",
              "  <style>\n",
              "    .colab-df-container {\n",
              "      display:flex;\n",
              "      gap: 12px;\n",
              "    }\n",
              "\n",
              "    .colab-df-convert {\n",
              "      background-color: #E8F0FE;\n",
              "      border: none;\n",
              "      border-radius: 50%;\n",
              "      cursor: pointer;\n",
              "      display: none;\n",
              "      fill: #1967D2;\n",
              "      height: 32px;\n",
              "      padding: 0 0 0 0;\n",
              "      width: 32px;\n",
              "    }\n",
              "\n",
              "    .colab-df-convert:hover {\n",
              "      background-color: #E2EBFA;\n",
              "      box-shadow: 0px 1px 2px rgba(60, 64, 67, 0.3), 0px 1px 3px 1px rgba(60, 64, 67, 0.15);\n",
              "      fill: #174EA6;\n",
              "    }\n",
              "\n",
              "    .colab-df-buttons div {\n",
              "      margin-bottom: 4px;\n",
              "    }\n",
              "\n",
              "    [theme=dark] .colab-df-convert {\n",
              "      background-color: #3B4455;\n",
              "      fill: #D2E3FC;\n",
              "    }\n",
              "\n",
              "    [theme=dark] .colab-df-convert:hover {\n",
              "      background-color: #434B5C;\n",
              "      box-shadow: 0px 1px 3px 1px rgba(0, 0, 0, 0.15);\n",
              "      filter: drop-shadow(0px 1px 2px rgba(0, 0, 0, 0.3));\n",
              "      fill: #FFFFFF;\n",
              "    }\n",
              "  </style>\n",
              "\n",
              "    <script>\n",
              "      const buttonEl =\n",
              "        document.querySelector('#df-c934417b-a5b9-4bc0-ae5c-3c1883b5ccc4 button.colab-df-convert');\n",
              "      buttonEl.style.display =\n",
              "        google.colab.kernel.accessAllowed ? 'block' : 'none';\n",
              "\n",
              "      async function convertToInteractive(key) {\n",
              "        const element = document.querySelector('#df-c934417b-a5b9-4bc0-ae5c-3c1883b5ccc4');\n",
              "        const dataTable =\n",
              "          await google.colab.kernel.invokeFunction('convertToInteractive',\n",
              "                                                    [key], {});\n",
              "        if (!dataTable) return;\n",
              "\n",
              "        const docLinkHtml = 'Like what you see? Visit the ' +\n",
              "          '<a target=\"_blank\" href=https://colab.research.google.com/notebooks/data_table.ipynb>data table notebook</a>'\n",
              "          + ' to learn more about interactive tables.';\n",
              "        element.innerHTML = '';\n",
              "        dataTable['output_type'] = 'display_data';\n",
              "        await google.colab.output.renderOutput(dataTable, element);\n",
              "        const docLink = document.createElement('div');\n",
              "        docLink.innerHTML = docLinkHtml;\n",
              "        element.appendChild(docLink);\n",
              "      }\n",
              "    </script>\n",
              "  </div>\n",
              "\n",
              "\n",
              "<div id=\"df-858a8499-51be-4d55-b678-784920177e04\">\n",
              "  <button class=\"colab-df-quickchart\" onclick=\"quickchart('df-858a8499-51be-4d55-b678-784920177e04')\"\n",
              "            title=\"Suggest charts\"\n",
              "            style=\"display:none;\">\n",
              "\n",
              "<svg xmlns=\"http://www.w3.org/2000/svg\" height=\"24px\"viewBox=\"0 0 24 24\"\n",
              "     width=\"24px\">\n",
              "    <g>\n",
              "        <path d=\"M19 3H5c-1.1 0-2 .9-2 2v14c0 1.1.9 2 2 2h14c1.1 0 2-.9 2-2V5c0-1.1-.9-2-2-2zM9 17H7v-7h2v7zm4 0h-2V7h2v10zm4 0h-2v-4h2v4z\"/>\n",
              "    </g>\n",
              "</svg>\n",
              "  </button>\n",
              "\n",
              "<style>\n",
              "  .colab-df-quickchart {\n",
              "      --bg-color: #E8F0FE;\n",
              "      --fill-color: #1967D2;\n",
              "      --hover-bg-color: #E2EBFA;\n",
              "      --hover-fill-color: #174EA6;\n",
              "      --disabled-fill-color: #AAA;\n",
              "      --disabled-bg-color: #DDD;\n",
              "  }\n",
              "\n",
              "  [theme=dark] .colab-df-quickchart {\n",
              "      --bg-color: #3B4455;\n",
              "      --fill-color: #D2E3FC;\n",
              "      --hover-bg-color: #434B5C;\n",
              "      --hover-fill-color: #FFFFFF;\n",
              "      --disabled-bg-color: #3B4455;\n",
              "      --disabled-fill-color: #666;\n",
              "  }\n",
              "\n",
              "  .colab-df-quickchart {\n",
              "    background-color: var(--bg-color);\n",
              "    border: none;\n",
              "    border-radius: 50%;\n",
              "    cursor: pointer;\n",
              "    display: none;\n",
              "    fill: var(--fill-color);\n",
              "    height: 32px;\n",
              "    padding: 0;\n",
              "    width: 32px;\n",
              "  }\n",
              "\n",
              "  .colab-df-quickchart:hover {\n",
              "    background-color: var(--hover-bg-color);\n",
              "    box-shadow: 0 1px 2px rgba(60, 64, 67, 0.3), 0 1px 3px 1px rgba(60, 64, 67, 0.15);\n",
              "    fill: var(--button-hover-fill-color);\n",
              "  }\n",
              "\n",
              "  .colab-df-quickchart-complete:disabled,\n",
              "  .colab-df-quickchart-complete:disabled:hover {\n",
              "    background-color: var(--disabled-bg-color);\n",
              "    fill: var(--disabled-fill-color);\n",
              "    box-shadow: none;\n",
              "  }\n",
              "\n",
              "  .colab-df-spinner {\n",
              "    border: 2px solid var(--fill-color);\n",
              "    border-color: transparent;\n",
              "    border-bottom-color: var(--fill-color);\n",
              "    animation:\n",
              "      spin 1s steps(1) infinite;\n",
              "  }\n",
              "\n",
              "  @keyframes spin {\n",
              "    0% {\n",
              "      border-color: transparent;\n",
              "      border-bottom-color: var(--fill-color);\n",
              "      border-left-color: var(--fill-color);\n",
              "    }\n",
              "    20% {\n",
              "      border-color: transparent;\n",
              "      border-left-color: var(--fill-color);\n",
              "      border-top-color: var(--fill-color);\n",
              "    }\n",
              "    30% {\n",
              "      border-color: transparent;\n",
              "      border-left-color: var(--fill-color);\n",
              "      border-top-color: var(--fill-color);\n",
              "      border-right-color: var(--fill-color);\n",
              "    }\n",
              "    40% {\n",
              "      border-color: transparent;\n",
              "      border-right-color: var(--fill-color);\n",
              "      border-top-color: var(--fill-color);\n",
              "    }\n",
              "    60% {\n",
              "      border-color: transparent;\n",
              "      border-right-color: var(--fill-color);\n",
              "    }\n",
              "    80% {\n",
              "      border-color: transparent;\n",
              "      border-right-color: var(--fill-color);\n",
              "      border-bottom-color: var(--fill-color);\n",
              "    }\n",
              "    90% {\n",
              "      border-color: transparent;\n",
              "      border-bottom-color: var(--fill-color);\n",
              "    }\n",
              "  }\n",
              "</style>\n",
              "\n",
              "  <script>\n",
              "    async function quickchart(key) {\n",
              "      const quickchartButtonEl =\n",
              "        document.querySelector('#' + key + ' button');\n",
              "      quickchartButtonEl.disabled = true;  // To prevent multiple clicks.\n",
              "      quickchartButtonEl.classList.add('colab-df-spinner');\n",
              "      try {\n",
              "        const charts = await google.colab.kernel.invokeFunction(\n",
              "            'suggestCharts', [key], {});\n",
              "      } catch (error) {\n",
              "        console.error('Error during call to suggestCharts:', error);\n",
              "      }\n",
              "      quickchartButtonEl.classList.remove('colab-df-spinner');\n",
              "      quickchartButtonEl.classList.add('colab-df-quickchart-complete');\n",
              "    }\n",
              "    (() => {\n",
              "      let quickchartButtonEl =\n",
              "        document.querySelector('#df-858a8499-51be-4d55-b678-784920177e04 button');\n",
              "      quickchartButtonEl.style.display =\n",
              "        google.colab.kernel.accessAllowed ? 'block' : 'none';\n",
              "    })();\n",
              "  </script>\n",
              "</div>\n",
              "\n",
              "  <div id=\"id_ee6f3cfc-3d98-4172-bd04-4899b455a141\">\n",
              "    <style>\n",
              "      .colab-df-generate {\n",
              "        background-color: #E8F0FE;\n",
              "        border: none;\n",
              "        border-radius: 50%;\n",
              "        cursor: pointer;\n",
              "        display: none;\n",
              "        fill: #1967D2;\n",
              "        height: 32px;\n",
              "        padding: 0 0 0 0;\n",
              "        width: 32px;\n",
              "      }\n",
              "\n",
              "      .colab-df-generate:hover {\n",
              "        background-color: #E2EBFA;\n",
              "        box-shadow: 0px 1px 2px rgba(60, 64, 67, 0.3), 0px 1px 3px 1px rgba(60, 64, 67, 0.15);\n",
              "        fill: #174EA6;\n",
              "      }\n",
              "\n",
              "      [theme=dark] .colab-df-generate {\n",
              "        background-color: #3B4455;\n",
              "        fill: #D2E3FC;\n",
              "      }\n",
              "\n",
              "      [theme=dark] .colab-df-generate:hover {\n",
              "        background-color: #434B5C;\n",
              "        box-shadow: 0px 1px 3px 1px rgba(0, 0, 0, 0.15);\n",
              "        filter: drop-shadow(0px 1px 2px rgba(0, 0, 0, 0.3));\n",
              "        fill: #FFFFFF;\n",
              "      }\n",
              "    </style>\n",
              "    <button class=\"colab-df-generate\" onclick=\"generateWithVariable('top10_profit')\"\n",
              "            title=\"Generate code using this dataframe.\"\n",
              "            style=\"display:none;\">\n",
              "\n",
              "  <svg xmlns=\"http://www.w3.org/2000/svg\" height=\"24px\"viewBox=\"0 0 24 24\"\n",
              "       width=\"24px\">\n",
              "    <path d=\"M7,19H8.4L18.45,9,17,7.55,7,17.6ZM5,21V16.75L18.45,3.32a2,2,0,0,1,2.83,0l1.4,1.43a1.91,1.91,0,0,1,.58,1.4,1.91,1.91,0,0,1-.58,1.4L9.25,21ZM18.45,9,17,7.55Zm-12,3A5.31,5.31,0,0,0,4.9,8.1,5.31,5.31,0,0,0,1,6.5,5.31,5.31,0,0,0,4.9,4.9,5.31,5.31,0,0,0,6.5,1,5.31,5.31,0,0,0,8.1,4.9,5.31,5.31,0,0,0,12,6.5,5.46,5.46,0,0,0,6.5,12Z\"/>\n",
              "  </svg>\n",
              "    </button>\n",
              "    <script>\n",
              "      (() => {\n",
              "      const buttonEl =\n",
              "        document.querySelector('#id_ee6f3cfc-3d98-4172-bd04-4899b455a141 button.colab-df-generate');\n",
              "      buttonEl.style.display =\n",
              "        google.colab.kernel.accessAllowed ? 'block' : 'none';\n",
              "\n",
              "      buttonEl.onclick = () => {\n",
              "        google.colab.notebook.generateWithVariable('top10_profit');\n",
              "      }\n",
              "      })();\n",
              "    </script>\n",
              "  </div>\n",
              "\n",
              "    </div>\n",
              "  </div>\n"
            ],
            "application/vnd.google.colaboratory.intrinsic+json": {
              "type": "dataframe",
              "variable_name": "top10_profit",
              "summary": "{\n  \"name\": \"top10_profit\",\n  \"rows\": 10,\n  \"fields\": [\n    {\n      \"column\": \"Zone\",\n      \"properties\": {\n        \"dtype\": \"string\",\n        \"num_unique_values\": 10,\n        \"samples\": [\n          \"Bay Ridge\",\n          \"Mariners Harbor\",\n          \"West Brighton\"\n        ],\n        \"semantic_type\": \"\",\n        \"description\": \"\"\n      }\n    },\n    {\n      \"column\": \"average_profitability\",\n      \"properties\": {\n        \"dtype\": \"number\",\n        \"std\": 46.01353153439158,\n        \"min\": 84.00762913235866,\n        \"max\": 201.4724515570809,\n        \"num_unique_values\": 10,\n        \"samples\": [\n          84.675391058027,\n          197.76580488628338,\n          87.37120340543028\n        ],\n        \"semantic_type\": \"\",\n        \"description\": \"\"\n      }\n    }\n  ]\n}"
            }
          },
          "metadata": {}
        }
      ],
      "source": [
        "# use 'display()' return a pandas DataFrame for 'pretty' output\n",
        "display(top10_profit)"
      ]
    },
    {
      "cell_type": "code",
      "execution_count": 26,
      "metadata": {
        "application/vnd.databricks.v1+cell": {
          "inputWidgets": {},
          "nuid": "90eb7561-5775-4e6a-8317-473f311e4cfe",
          "showTitle": false,
          "title": ""
        },
        "id": "0WME4wKBctJB",
        "outputId": "b8306f9a-e693-4d98-8933-6bcf01f7f58a",
        "colab": {
          "base_uri": "https://localhost:8080/",
          "height": 363
        }
      },
      "outputs": [
        {
          "output_type": "display_data",
          "data": {
            "text/plain": [
              "                           Zone  total_passenger_volume\n",
              "0         Upper East Side South                 1031330\n",
              "1         Upper East Side North                  967495\n",
              "2                Midtown Center                  650112\n",
              "3  Penn Station/Madison Sq West                  635555\n",
              "4           Lincoln Square East                  629166\n",
              "5         Upper West Side South                  627604\n",
              "6               Lenox Hill West                  608393\n",
              "7                   Murray Hill                  605190\n",
              "8                  Midtown East                  575590\n",
              "9                      Union Sq                  527654"
            ],
            "text/html": [
              "\n",
              "  <div id=\"df-44cf8f3d-8db6-4df2-b6c0-61d2224e1f1d\" class=\"colab-df-container\">\n",
              "    <div>\n",
              "<style scoped>\n",
              "    .dataframe tbody tr th:only-of-type {\n",
              "        vertical-align: middle;\n",
              "    }\n",
              "\n",
              "    .dataframe tbody tr th {\n",
              "        vertical-align: top;\n",
              "    }\n",
              "\n",
              "    .dataframe thead th {\n",
              "        text-align: right;\n",
              "    }\n",
              "</style>\n",
              "<table border=\"1\" class=\"dataframe\">\n",
              "  <thead>\n",
              "    <tr style=\"text-align: right;\">\n",
              "      <th></th>\n",
              "      <th>Zone</th>\n",
              "      <th>total_passenger_volume</th>\n",
              "    </tr>\n",
              "  </thead>\n",
              "  <tbody>\n",
              "    <tr>\n",
              "      <th>0</th>\n",
              "      <td>Upper East Side South</td>\n",
              "      <td>1031330</td>\n",
              "    </tr>\n",
              "    <tr>\n",
              "      <th>1</th>\n",
              "      <td>Upper East Side North</td>\n",
              "      <td>967495</td>\n",
              "    </tr>\n",
              "    <tr>\n",
              "      <th>2</th>\n",
              "      <td>Midtown Center</td>\n",
              "      <td>650112</td>\n",
              "    </tr>\n",
              "    <tr>\n",
              "      <th>3</th>\n",
              "      <td>Penn Station/Madison Sq West</td>\n",
              "      <td>635555</td>\n",
              "    </tr>\n",
              "    <tr>\n",
              "      <th>4</th>\n",
              "      <td>Lincoln Square East</td>\n",
              "      <td>629166</td>\n",
              "    </tr>\n",
              "    <tr>\n",
              "      <th>5</th>\n",
              "      <td>Upper West Side South</td>\n",
              "      <td>627604</td>\n",
              "    </tr>\n",
              "    <tr>\n",
              "      <th>6</th>\n",
              "      <td>Lenox Hill West</td>\n",
              "      <td>608393</td>\n",
              "    </tr>\n",
              "    <tr>\n",
              "      <th>7</th>\n",
              "      <td>Murray Hill</td>\n",
              "      <td>605190</td>\n",
              "    </tr>\n",
              "    <tr>\n",
              "      <th>8</th>\n",
              "      <td>Midtown East</td>\n",
              "      <td>575590</td>\n",
              "    </tr>\n",
              "    <tr>\n",
              "      <th>9</th>\n",
              "      <td>Union Sq</td>\n",
              "      <td>527654</td>\n",
              "    </tr>\n",
              "  </tbody>\n",
              "</table>\n",
              "</div>\n",
              "    <div class=\"colab-df-buttons\">\n",
              "\n",
              "  <div class=\"colab-df-container\">\n",
              "    <button class=\"colab-df-convert\" onclick=\"convertToInteractive('df-44cf8f3d-8db6-4df2-b6c0-61d2224e1f1d')\"\n",
              "            title=\"Convert this dataframe to an interactive table.\"\n",
              "            style=\"display:none;\">\n",
              "\n",
              "  <svg xmlns=\"http://www.w3.org/2000/svg\" height=\"24px\" viewBox=\"0 -960 960 960\">\n",
              "    <path d=\"M120-120v-720h720v720H120Zm60-500h600v-160H180v160Zm220 220h160v-160H400v160Zm0 220h160v-160H400v160ZM180-400h160v-160H180v160Zm440 0h160v-160H620v160ZM180-180h160v-160H180v160Zm440 0h160v-160H620v160Z\"/>\n",
              "  </svg>\n",
              "    </button>\n",
              "\n",
              "  <style>\n",
              "    .colab-df-container {\n",
              "      display:flex;\n",
              "      gap: 12px;\n",
              "    }\n",
              "\n",
              "    .colab-df-convert {\n",
              "      background-color: #E8F0FE;\n",
              "      border: none;\n",
              "      border-radius: 50%;\n",
              "      cursor: pointer;\n",
              "      display: none;\n",
              "      fill: #1967D2;\n",
              "      height: 32px;\n",
              "      padding: 0 0 0 0;\n",
              "      width: 32px;\n",
              "    }\n",
              "\n",
              "    .colab-df-convert:hover {\n",
              "      background-color: #E2EBFA;\n",
              "      box-shadow: 0px 1px 2px rgba(60, 64, 67, 0.3), 0px 1px 3px 1px rgba(60, 64, 67, 0.15);\n",
              "      fill: #174EA6;\n",
              "    }\n",
              "\n",
              "    .colab-df-buttons div {\n",
              "      margin-bottom: 4px;\n",
              "    }\n",
              "\n",
              "    [theme=dark] .colab-df-convert {\n",
              "      background-color: #3B4455;\n",
              "      fill: #D2E3FC;\n",
              "    }\n",
              "\n",
              "    [theme=dark] .colab-df-convert:hover {\n",
              "      background-color: #434B5C;\n",
              "      box-shadow: 0px 1px 3px 1px rgba(0, 0, 0, 0.15);\n",
              "      filter: drop-shadow(0px 1px 2px rgba(0, 0, 0, 0.3));\n",
              "      fill: #FFFFFF;\n",
              "    }\n",
              "  </style>\n",
              "\n",
              "    <script>\n",
              "      const buttonEl =\n",
              "        document.querySelector('#df-44cf8f3d-8db6-4df2-b6c0-61d2224e1f1d button.colab-df-convert');\n",
              "      buttonEl.style.display =\n",
              "        google.colab.kernel.accessAllowed ? 'block' : 'none';\n",
              "\n",
              "      async function convertToInteractive(key) {\n",
              "        const element = document.querySelector('#df-44cf8f3d-8db6-4df2-b6c0-61d2224e1f1d');\n",
              "        const dataTable =\n",
              "          await google.colab.kernel.invokeFunction('convertToInteractive',\n",
              "                                                    [key], {});\n",
              "        if (!dataTable) return;\n",
              "\n",
              "        const docLinkHtml = 'Like what you see? Visit the ' +\n",
              "          '<a target=\"_blank\" href=https://colab.research.google.com/notebooks/data_table.ipynb>data table notebook</a>'\n",
              "          + ' to learn more about interactive tables.';\n",
              "        element.innerHTML = '';\n",
              "        dataTable['output_type'] = 'display_data';\n",
              "        await google.colab.output.renderOutput(dataTable, element);\n",
              "        const docLink = document.createElement('div');\n",
              "        docLink.innerHTML = docLinkHtml;\n",
              "        element.appendChild(docLink);\n",
              "      }\n",
              "    </script>\n",
              "  </div>\n",
              "\n",
              "\n",
              "<div id=\"df-aa16c81c-09d2-4860-9b4f-4114faa1fa62\">\n",
              "  <button class=\"colab-df-quickchart\" onclick=\"quickchart('df-aa16c81c-09d2-4860-9b4f-4114faa1fa62')\"\n",
              "            title=\"Suggest charts\"\n",
              "            style=\"display:none;\">\n",
              "\n",
              "<svg xmlns=\"http://www.w3.org/2000/svg\" height=\"24px\"viewBox=\"0 0 24 24\"\n",
              "     width=\"24px\">\n",
              "    <g>\n",
              "        <path d=\"M19 3H5c-1.1 0-2 .9-2 2v14c0 1.1.9 2 2 2h14c1.1 0 2-.9 2-2V5c0-1.1-.9-2-2-2zM9 17H7v-7h2v7zm4 0h-2V7h2v10zm4 0h-2v-4h2v4z\"/>\n",
              "    </g>\n",
              "</svg>\n",
              "  </button>\n",
              "\n",
              "<style>\n",
              "  .colab-df-quickchart {\n",
              "      --bg-color: #E8F0FE;\n",
              "      --fill-color: #1967D2;\n",
              "      --hover-bg-color: #E2EBFA;\n",
              "      --hover-fill-color: #174EA6;\n",
              "      --disabled-fill-color: #AAA;\n",
              "      --disabled-bg-color: #DDD;\n",
              "  }\n",
              "\n",
              "  [theme=dark] .colab-df-quickchart {\n",
              "      --bg-color: #3B4455;\n",
              "      --fill-color: #D2E3FC;\n",
              "      --hover-bg-color: #434B5C;\n",
              "      --hover-fill-color: #FFFFFF;\n",
              "      --disabled-bg-color: #3B4455;\n",
              "      --disabled-fill-color: #666;\n",
              "  }\n",
              "\n",
              "  .colab-df-quickchart {\n",
              "    background-color: var(--bg-color);\n",
              "    border: none;\n",
              "    border-radius: 50%;\n",
              "    cursor: pointer;\n",
              "    display: none;\n",
              "    fill: var(--fill-color);\n",
              "    height: 32px;\n",
              "    padding: 0;\n",
              "    width: 32px;\n",
              "  }\n",
              "\n",
              "  .colab-df-quickchart:hover {\n",
              "    background-color: var(--hover-bg-color);\n",
              "    box-shadow: 0 1px 2px rgba(60, 64, 67, 0.3), 0 1px 3px 1px rgba(60, 64, 67, 0.15);\n",
              "    fill: var(--button-hover-fill-color);\n",
              "  }\n",
              "\n",
              "  .colab-df-quickchart-complete:disabled,\n",
              "  .colab-df-quickchart-complete:disabled:hover {\n",
              "    background-color: var(--disabled-bg-color);\n",
              "    fill: var(--disabled-fill-color);\n",
              "    box-shadow: none;\n",
              "  }\n",
              "\n",
              "  .colab-df-spinner {\n",
              "    border: 2px solid var(--fill-color);\n",
              "    border-color: transparent;\n",
              "    border-bottom-color: var(--fill-color);\n",
              "    animation:\n",
              "      spin 1s steps(1) infinite;\n",
              "  }\n",
              "\n",
              "  @keyframes spin {\n",
              "    0% {\n",
              "      border-color: transparent;\n",
              "      border-bottom-color: var(--fill-color);\n",
              "      border-left-color: var(--fill-color);\n",
              "    }\n",
              "    20% {\n",
              "      border-color: transparent;\n",
              "      border-left-color: var(--fill-color);\n",
              "      border-top-color: var(--fill-color);\n",
              "    }\n",
              "    30% {\n",
              "      border-color: transparent;\n",
              "      border-left-color: var(--fill-color);\n",
              "      border-top-color: var(--fill-color);\n",
              "      border-right-color: var(--fill-color);\n",
              "    }\n",
              "    40% {\n",
              "      border-color: transparent;\n",
              "      border-right-color: var(--fill-color);\n",
              "      border-top-color: var(--fill-color);\n",
              "    }\n",
              "    60% {\n",
              "      border-color: transparent;\n",
              "      border-right-color: var(--fill-color);\n",
              "    }\n",
              "    80% {\n",
              "      border-color: transparent;\n",
              "      border-right-color: var(--fill-color);\n",
              "      border-bottom-color: var(--fill-color);\n",
              "    }\n",
              "    90% {\n",
              "      border-color: transparent;\n",
              "      border-bottom-color: var(--fill-color);\n",
              "    }\n",
              "  }\n",
              "</style>\n",
              "\n",
              "  <script>\n",
              "    async function quickchart(key) {\n",
              "      const quickchartButtonEl =\n",
              "        document.querySelector('#' + key + ' button');\n",
              "      quickchartButtonEl.disabled = true;  // To prevent multiple clicks.\n",
              "      quickchartButtonEl.classList.add('colab-df-spinner');\n",
              "      try {\n",
              "        const charts = await google.colab.kernel.invokeFunction(\n",
              "            'suggestCharts', [key], {});\n",
              "      } catch (error) {\n",
              "        console.error('Error during call to suggestCharts:', error);\n",
              "      }\n",
              "      quickchartButtonEl.classList.remove('colab-df-spinner');\n",
              "      quickchartButtonEl.classList.add('colab-df-quickchart-complete');\n",
              "    }\n",
              "    (() => {\n",
              "      let quickchartButtonEl =\n",
              "        document.querySelector('#df-aa16c81c-09d2-4860-9b4f-4114faa1fa62 button');\n",
              "      quickchartButtonEl.style.display =\n",
              "        google.colab.kernel.accessAllowed ? 'block' : 'none';\n",
              "    })();\n",
              "  </script>\n",
              "</div>\n",
              "\n",
              "  <div id=\"id_61fe681d-9d3e-4640-9b4f-da76c77d6c2b\">\n",
              "    <style>\n",
              "      .colab-df-generate {\n",
              "        background-color: #E8F0FE;\n",
              "        border: none;\n",
              "        border-radius: 50%;\n",
              "        cursor: pointer;\n",
              "        display: none;\n",
              "        fill: #1967D2;\n",
              "        height: 32px;\n",
              "        padding: 0 0 0 0;\n",
              "        width: 32px;\n",
              "      }\n",
              "\n",
              "      .colab-df-generate:hover {\n",
              "        background-color: #E2EBFA;\n",
              "        box-shadow: 0px 1px 2px rgba(60, 64, 67, 0.3), 0px 1px 3px 1px rgba(60, 64, 67, 0.15);\n",
              "        fill: #174EA6;\n",
              "      }\n",
              "\n",
              "      [theme=dark] .colab-df-generate {\n",
              "        background-color: #3B4455;\n",
              "        fill: #D2E3FC;\n",
              "      }\n",
              "\n",
              "      [theme=dark] .colab-df-generate:hover {\n",
              "        background-color: #434B5C;\n",
              "        box-shadow: 0px 1px 3px 1px rgba(0, 0, 0, 0.15);\n",
              "        filter: drop-shadow(0px 1px 2px rgba(0, 0, 0, 0.3));\n",
              "        fill: #FFFFFF;\n",
              "      }\n",
              "    </style>\n",
              "    <button class=\"colab-df-generate\" onclick=\"generateWithVariable('top10_passenger')\"\n",
              "            title=\"Generate code using this dataframe.\"\n",
              "            style=\"display:none;\">\n",
              "\n",
              "  <svg xmlns=\"http://www.w3.org/2000/svg\" height=\"24px\"viewBox=\"0 0 24 24\"\n",
              "       width=\"24px\">\n",
              "    <path d=\"M7,19H8.4L18.45,9,17,7.55,7,17.6ZM5,21V16.75L18.45,3.32a2,2,0,0,1,2.83,0l1.4,1.43a1.91,1.91,0,0,1,.58,1.4,1.91,1.91,0,0,1-.58,1.4L9.25,21ZM18.45,9,17,7.55Zm-12,3A5.31,5.31,0,0,0,4.9,8.1,5.31,5.31,0,0,0,1,6.5,5.31,5.31,0,0,0,4.9,4.9,5.31,5.31,0,0,0,6.5,1,5.31,5.31,0,0,0,8.1,4.9,5.31,5.31,0,0,0,12,6.5,5.46,5.46,0,0,0,6.5,12Z\"/>\n",
              "  </svg>\n",
              "    </button>\n",
              "    <script>\n",
              "      (() => {\n",
              "      const buttonEl =\n",
              "        document.querySelector('#id_61fe681d-9d3e-4640-9b4f-da76c77d6c2b button.colab-df-generate');\n",
              "      buttonEl.style.display =\n",
              "        google.colab.kernel.accessAllowed ? 'block' : 'none';\n",
              "\n",
              "      buttonEl.onclick = () => {\n",
              "        google.colab.notebook.generateWithVariable('top10_passenger');\n",
              "      }\n",
              "      })();\n",
              "    </script>\n",
              "  </div>\n",
              "\n",
              "    </div>\n",
              "  </div>\n"
            ],
            "application/vnd.google.colaboratory.intrinsic+json": {
              "type": "dataframe",
              "variable_name": "top10_passenger",
              "summary": "{\n  \"name\": \"top10_passenger\",\n  \"rows\": 10,\n  \"fields\": [\n    {\n      \"column\": \"Zone\",\n      \"properties\": {\n        \"dtype\": \"string\",\n        \"num_unique_values\": 10,\n        \"samples\": [\n          \"Midtown East\",\n          \"Upper East Side North\",\n          \"Upper West Side South\"\n        ],\n        \"semantic_type\": \"\",\n        \"description\": \"\"\n      }\n    },\n    {\n      \"column\": \"total_passenger_volume\",\n      \"properties\": {\n        \"dtype\": \"number\",\n        \"std\": 169568,\n        \"min\": 527654,\n        \"max\": 1031330,\n        \"num_unique_values\": 10,\n        \"samples\": [\n          575590,\n          967495,\n          627604\n        ],\n        \"semantic_type\": \"\",\n        \"description\": \"\"\n      }\n    }\n  ]\n}"
            }
          },
          "metadata": {}
        }
      ],
      "source": [
        "# use 'display()' or return a pandas DataFrame for 'pretty' output\n",
        "display(top10_passenger)"
      ]
    },
    {
      "cell_type": "code",
      "source": [
        "import matplotlib.pyplot as plt\n",
        "import seaborn as sns\n",
        "\n",
        "# Plotting the obtained resuslts\n",
        "\n",
        "def plot_top10(df, column, title, ylabel, color=\"skyblue\"):\n",
        "\n",
        "    df = df.sort_values(by=column, ascending=True)  # Ensure correct order\n",
        "    plt.figure(figsize=(10, 5))\n",
        "    sns.barplot(y=df[\"Zone\"], x=df[column], palette=color)\n",
        "    plt.xlabel(ylabel)\n",
        "    plt.ylabel(\"Zone\")\n",
        "    plt.title(title)\n",
        "    plt.grid(axis=\"x\", linestyle=\"--\", alpha=0.7)\n",
        "    plt.show()\n",
        "\n",
        "# Plot top 10 zones by trip volume\n",
        "plot_top10(top10_trips, \"total_trips\", \"Top 10 Zones by Trip Volume\", \"Total Trips\", color=\"Blues\")\n",
        "\n",
        "# Plot top 10 zones by average profitability\n",
        "plot_top10(top10_profit, \"average_profitability\", \"Top 10 Zones by Profitability\", \"Avg Profitability\", color=\"Greens\")\n",
        "\n",
        "# Plot top 10 zones by passenger volume\n",
        "plot_top10(top10_passenger, \"total_passenger_volume\", \"Top 10 Zones by Passenger Volume\", \"Total Passengers\", color=\"Reds\")\n",
        "\n"
      ],
      "metadata": {
        "colab": {
          "base_uri": "https://localhost:8080/",
          "height": 1000
        },
        "id": "LpG1D50Ei4_g",
        "outputId": "d8a19555-30af-49a4-a26f-af91b2ac39c1"
      },
      "execution_count": 27,
      "outputs": [
        {
          "output_type": "stream",
          "name": "stderr",
          "text": [
            "<ipython-input-27-c94d0c568901>:10: FutureWarning: \n",
            "\n",
            "Passing `palette` without assigning `hue` is deprecated and will be removed in v0.14.0. Assign the `y` variable to `hue` and set `legend=False` for the same effect.\n",
            "\n",
            "  sns.barplot(y=df[\"Zone\"], x=df[column], palette=color)\n"
          ]
        },
        {
          "output_type": "display_data",
          "data": {
            "text/plain": [
              "<Figure size 1000x500 with 1 Axes>"
            ],
            "image/png": "[encoded data removed]"
          },
          "metadata": {}
        },
        {
          "output_type": "stream",
          "name": "stderr",
          "text": [
            "<ipython-input-27-c94d0c568901>:10: FutureWarning: \n",
            "\n",
            "Passing `palette` without assigning `hue` is deprecated and will be removed in v0.14.0. Assign the `y` variable to `hue` and set `legend=False` for the same effect.\n",
            "\n",
            "  sns.barplot(y=df[\"Zone\"], x=df[column], palette=color)\n"
          ]
        },
        {
          "output_type": "display_data",
          "data": {
            "text/plain": [
              "<Figure size 1000x500 with 1 Axes>"
            ],
            "image/png": "[encoded data removed]"
          },
          "metadata": {}
        },
        {
          "output_type": "stream",
          "name": "stderr",
          "text": [
            "<ipython-input-27-c94d0c568901>:10: FutureWarning: \n",
            "\n",
            "Passing `palette` without assigning `hue` is deprecated and will be removed in v0.14.0. Assign the `y` variable to `hue` and set `legend=False` for the same effect.\n",
            "\n",
            "  sns.barplot(y=df[\"Zone\"], x=df[column], palette=color)\n"
          ]
        },
        {
          "output_type": "display_data",
          "data": {
            "text/plain": [
              "<Figure size 1000x500 with 1 Axes>"
            ],
            "image/png": "[encoded data removed]"
          },
          "metadata": {}
        }
      ]
    },
    {
      "cell_type": "markdown",
      "metadata": {
        "application/vnd.databricks.v1+cell": {
          "inputWidgets": {},
          "nuid": "7b950c5e-b7fd-405e-a0ba-0fe9c2752678",
          "showTitle": false,
          "title": ""
        },
        "id": "Fwol2bRactJB"
      },
      "source": [
        "## Task 4 - Record the pipeline's execution time\n",
        "\n",
        "Record the execution time of:\n",
        "\n",
        "1. the whole pipeline\n",
        "2. the whole pipeline except task 1.2\n",
        "\n",
        "on the two tables below, for all dataset sizes: `'S'`, `'M'`, `'L'`, `'XL'`, `'XXL'`.\n",
        "\n",
        "Analyse the resulting execution times and comment on the effect of dataset size, dataset format and task complexity (with and without task 1.2) on pipeline performance."
      ]
    },
    {
      "cell_type": "code",
      "execution_count": 34,
      "metadata": {
        "application/vnd.databricks.v1+cell": {
          "inputWidgets": {},
          "nuid": "a0e68e8c-4de9-4e04-9de0-f36e24b10f7a",
          "showTitle": false,
          "title": ""
        },
        "id": "BB-FrEWPctJB",
        "outputId": "ed49cb23-526a-4583-fa83-0012ab50e4f0",
        "colab": {
          "base_uri": "https://localhost:8080/"
        }
      },
      "outputs": [
        {
          "output_type": "stream",
          "name": "stdout",
          "text": [
            "\n",
            "    Trips dataset loaded!\n",
            "    ---\n",
            "      Size: S\n",
            "      Tables loaded: ['/content/drive/MyDrive/CSC8101_Data/tripdata_2021_07.parquet']\n",
            "      Number of trips (dataset rows): 2,898,033\n",
            "    \n"
          ]
        }
      ],
      "source": [
        "# after developing your solution, it may be convenient to combine all your functions in a single cell (at the start or end of the notebook)\n",
        "\n",
        "# CHANGE the value of the following arguments to record the pipeline execution times for increasing dataset sizes\n",
        "SIZE = 'S'\n",
        "WITH_TASK_12 = False\n",
        "\n",
        "# Load trips dataset\n",
        "trips = init_trips(SIZE)"
      ]
    },
    {
      "cell_type": "code",
      "execution_count": 35,
      "metadata": {
        "application/vnd.databricks.v1+cell": {
          "inputWidgets": {},
          "nuid": "68681494-9d89-4706-908d-c5545444e8ca",
          "showTitle": false,
          "title": ""
        },
        "id": "EeEE0c8lctJB",
        "outputId": "133d192d-4a63-401b-9c8f-374b332ee116",
        "colab": {
          "base_uri": "https://localhost:8080/"
        }
      },
      "outputs": [
        {
          "output_type": "stream",
          "name": "stdout",
          "text": [
            "+------------+-----------+---------------------+----------------------+----------+---------+--------------------+------------+\n",
            "|PULocationID|total_trips|average_profitability|total_passenger_volume|LocationID|  Borough|                Zone|service_zone|\n",
            "+------------+-----------+---------------------+----------------------+----------+---------+--------------------+------------+\n",
            "|         237|     126914|    5.314942798960623|                176823|       237|Manhattan|Upper East Side S...| Yellow Zone|\n",
            "|         236|     109037|    5.062816338145955|                151051|       236|Manhattan|Upper East Side N...| Yellow Zone|\n",
            "|         132|     106810|    5.968529838209491|                166344|       132|   Queens|         JFK Airport|    Airports|\n",
            "|         186|     102944|    6.266048077409884|                145815|       186|Manhattan|Penn Station/Madi...| Yellow Zone|\n",
            "|         161|      98719|    5.724931176342403|                141981|       161|Manhattan|      Midtown Center| Yellow Zone|\n",
            "|         170|      93838|    6.184786648530598|                130441|       170|Manhattan|         Murray Hill| Yellow Zone|\n",
            "|         162|      90173|    5.542401647473194|                126621|       162|Manhattan|        Midtown East| Yellow Zone|\n",
            "|         142|      84772|     5.43091122149874|                119699|       142|Manhattan| Lincoln Square East| Yellow Zone|\n",
            "|          48|      80614|    5.481248283931685|                115352|        48|Manhattan|        Clinton East| Yellow Zone|\n",
            "|         239|      78706|     5.20303386592922|                111218|       239|Manhattan|Upper West Side S...| Yellow Zone|\n",
            "+------------+-----------+---------------------+----------------------+----------+---------+--------------------+------------+\n",
            "\n",
            "+------------+-----------+---------------------+----------------------+----------+-------------+--------------------+------------+\n",
            "|PULocationID|total_trips|average_profitability|total_passenger_volume|LocationID|      Borough|                Zone|service_zone|\n",
            "+------------+-----------+---------------------+----------------------+----------+-------------+--------------------+------------+\n",
            "|           1|         69|   279.36512710885523|                   105|         1|          EWR|      Newark Airport|         EWR|\n",
            "|         120|         43|    74.31508292981285|                    48|       120|    Manhattan|     Highbridge Park|   Boro Zone|\n",
            "|         190|        103|   60.313122381552645|                    73|       190|     Brooklyn|       Prospect Park|   Boro Zone|\n",
            "|         227|        368|   50.066591049892175|                    95|       227|     Brooklyn|    Sunset Park East|   Boro Zone|\n",
            "|          54|         82|    42.46787208418765|                    52|        54|     Brooklyn|     Columbia Street|   Boro Zone|\n",
            "|         206|         23|   27.752008591911576|                     4|       206|Staten Island|Saint George/New ...|   Boro Zone|\n",
            "|         118|         19|   27.444075795808104|                    10|       118|Staten Island|Heartland Village...|   Boro Zone|\n",
            "|          14|        678|    27.39729207451784|                   129|        14|     Brooklyn|           Bay Ridge|   Boro Zone|\n",
            "|         134|        682|   24.284616596462918|                   643|       134|       Queens|         Kew Gardens|   Boro Zone|\n",
            "|          15|        112|   24.147287503663676|                    19|        15|       Queens|Bay Terrace/Fort ...|   Boro Zone|\n",
            "+------------+-----------+---------------------+----------------------+----------+-------------+--------------------+------------+\n",
            "\n",
            "+------------+-----------+---------------------+----------------------+----------+---------+--------------------+------------+\n",
            "|PULocationID|total_trips|average_profitability|total_passenger_volume|LocationID|  Borough|                Zone|service_zone|\n",
            "+------------+-----------+---------------------+----------------------+----------+---------+--------------------+------------+\n",
            "|         237|     126914|    5.314942798960623|                176823|       237|Manhattan|Upper East Side S...| Yellow Zone|\n",
            "|         132|     106810|    5.968529838209491|                166344|       132|   Queens|         JFK Airport|    Airports|\n",
            "|         236|     109037|    5.062816338145955|                151051|       236|Manhattan|Upper East Side N...| Yellow Zone|\n",
            "|         186|     102944|    6.266048077409884|                145815|       186|Manhattan|Penn Station/Madi...| Yellow Zone|\n",
            "|         161|      98719|    5.724931176342403|                141981|       161|Manhattan|      Midtown Center| Yellow Zone|\n",
            "|         170|      93838|    6.184786648530598|                130441|       170|Manhattan|         Murray Hill| Yellow Zone|\n",
            "|         162|      90173|    5.542401647473194|                126621|       162|Manhattan|        Midtown East| Yellow Zone|\n",
            "|         142|      84772|     5.43091122149874|                119699|       142|Manhattan| Lincoln Square East| Yellow Zone|\n",
            "|          48|      80614|    5.481248283931685|                115352|        48|Manhattan|        Clinton East| Yellow Zone|\n",
            "|          79|      78468|    5.626545141307988|                111403|        79|Manhattan|        East Village| Yellow Zone|\n",
            "+------------+-----------+---------------------+----------------------+----------+---------+--------------------+------------+\n",
            "\n"
          ]
        },
        {
          "output_type": "execute_result",
          "data": {
            "text/plain": [
              "[                           Zone  total_trips\n",
              " 0         Upper East Side South       126914\n",
              " 1         Upper East Side North       109037\n",
              " 2                   JFK Airport       106810\n",
              " 3  Penn Station/Madison Sq West       102944\n",
              " 4                Midtown Center        98719\n",
              " 5                   Murray Hill        93838\n",
              " 6                  Midtown East        90173\n",
              " 7           Lincoln Square East        84772\n",
              " 8                  Clinton East        80614\n",
              " 9         Upper West Side South        78706,\n",
              "                           Zone  average_profitability\n",
              " 0               Newark Airport                 279.37\n",
              " 1              Highbridge Park                  74.32\n",
              " 2                Prospect Park                  60.31\n",
              " 3             Sunset Park East                  50.07\n",
              " 4              Columbia Street                  42.47\n",
              " 5    Saint George/New Brighton                  27.75\n",
              " 6  Heartland Village/Todt Hill                  27.44\n",
              " 7                    Bay Ridge                  27.40\n",
              " 8                  Kew Gardens                  24.28\n",
              " 9      Bay Terrace/Fort Totten                  24.15,\n",
              "                            Zone  total_passenger_volume\n",
              " 0         Upper East Side South                  176823\n",
              " 1                   JFK Airport                  166344\n",
              " 2         Upper East Side North                  151051\n",
              " 3  Penn Station/Madison Sq West                  145815\n",
              " 4                Midtown Center                  141981\n",
              " 5                   Murray Hill                  130441\n",
              " 6                  Midtown East                  126621\n",
              " 7           Lincoln Square East                  119699\n",
              " 8                  Clinton East                  115352\n",
              " 9                  East Village                  111403]"
            ]
          },
          "metadata": {},
          "execution_count": 35
        }
      ],
      "source": [
        "# run and record the resulting execution time shown by databricks (on the cell footer)\n",
        "\n",
        "# IMPORTANT: this function calls all task functions in order of occurrence. For this code to run without errors, you have to load into memory all of the previous task-specific functions, even if you haven't implemented these yet.\n",
        "pipeline(trips, with_task_12 = WITH_TASK_12)"
      ]
    },
    {
      "cell_type": "markdown",
      "metadata": {
        "application/vnd.databricks.v1+cell": {
          "inputWidgets": {},
          "nuid": "08018100-ac87-4801-94fc-c9fec3dc6a66",
          "showTitle": false,
          "title": ""
        },
        "id": "QKm63LS4ctJB"
      },
      "source": [
        "_Table 1. Pipeline performance for `parquet` format._\n",
        "\n",
        "| metric                      | S    | M    | L    | XL   | XXL  |\n",
        "|-----------------------------|------|------|------|------|------|\n",
        "| rows (M)                    |  2.8 |  15.5 |  000 |  000 |  000 |\n",
        "| execution time   (w/o 1.2)  | 23.00 | 37.00 | 0.00 | 0.00 | 0.00 |\n",
        "| execution time              | 39.00 | 120.00 | 0.00 | 0.00 | 0.00 |\n",
        "| sec / 1M records (w/o 1.2)  | 8.21  | 2.38  | 0.0  | 0.0  | 0.0  |\n",
        "| sec / 1M records            | 13.92  | 7.74  | 0.0  | 0.0  | 0.0  |"
      ]
    },
    {
      "cell_type": "code",
      "source": [
        "import matplotlib.pyplot as plt\n",
        "import seaborn as sns\n",
        "import pandas as pd\n",
        "\n",
        "# Data (Only for S and M datasets)\n",
        "sizes = [\"S\", \"M\"]\n",
        "execution_time_wo_12 = [23, 37]  # Execution time without Task 1.2\n",
        "execution_time_with_12 = [39, 120]  # Execution time with Task 1.2\n",
        "sec_per_m_wo_12 = [8.21, 2.38]  # Sec per 1M records (w/o 1.2)\n",
        "sec_per_m_with_12 = [13.92, 7.74]  # Sec per 1M records (with 1.2)\n",
        "\n",
        "# Create figure and axis\n",
        "fig, ax1 = plt.subplots(figsize=(8, 5))\n",
        "\n",
        "# Plot Execution Time on primary y-axis (Left)\n",
        "ax1.plot(sizes, execution_time_wo_12, \"bo-\", label=\"Execution Time (w/o 1.2)\")\n",
        "ax1.plot(sizes, execution_time_with_12, \"ro-\", label=\"Execution Time (with 1.2)\")\n",
        "ax1.set_xlabel(\"Dataset Size\")\n",
        "ax1.set_ylabel(\"Execution Time (Seconds)\", color=\"black\")\n",
        "ax1.tick_params(axis=\"y\", labelcolor=\"black\")\n",
        "ax1.legend(loc=\"upper left\")\n",
        "\n",
        "# Create second y-axis (Right) for Processing Efficiency\n",
        "ax2 = ax1.twinx()\n",
        "ax2.bar(sizes, sec_per_m_wo_12, color=\"blue\", alpha=0.3, label=\"Sec per 1M (w/o 1.2)\")\n",
        "ax2.bar(sizes, sec_per_m_with_12, color=\"red\", alpha=0.3, label=\"Sec per 1M (with 1.2)\")\n",
        "ax2.set_ylabel(\"Seconds per 1M Records\", color=\"black\")\n",
        "ax2.tick_params(axis=\"y\", labelcolor=\"black\")\n",
        "\n",
        "# Legends and title\n",
        "fig.suptitle(\"Execution Time & Processing Efficiency\")\n",
        "ax2.legend(loc=\"upper right\")\n",
        "ax1.grid(axis=\"y\", linestyle=\"--\", alpha=0.6)\n",
        "\n",
        "plt.show()\n"
      ],
      "metadata": {
        "colab": {
          "base_uri": "https://localhost:8080/",
          "height": 515
        },
        "id": "wm1JWAH7jfoQ",
        "outputId": "344b27c8-cc65-4574-ef85-6643766e5cbd"
      },
      "execution_count": 38,
      "outputs": [
        {
          "output_type": "display_data",
          "data": {
            "text/plain": [
              "<Figure size 800x500 with 2 Axes>"
            ],
            "image/png": "[encoded data removed]"
          },
          "metadata": {}
        }
      ]
    },
    {
      "cell_type": "markdown",
      "source": [
        "**References:**\n",
        "\n",
        "\n",
        "*   Used a bit of help from Generative AI for plotting the graph of TASK-4\n",
        "\n"
      ],
      "metadata": {
        "id": "oR2acFMplNvM"
      }
    },
    {
      "cell_type": "code",
      "source": [],
      "metadata": {
        "id": "NWbEvdAPlPT9"
      },
      "execution_count": null,
      "outputs": []
    }
  ],
  "metadata": {
    "application/vnd.databricks.v1+notebook": {
      "dashboards": [],
      "language": "python",
      "notebookMetadata": {
        "pythonIndentUnit": 4
      },
      "notebookName": "CSC8101-spark-coursework",
      "notebookOrigID": 3034227906566903,
      "widgets": {}
    },
    "language_info": {
      "name": "python"
    },
    "colab": {
      "provenance": []
    },
    "kernelspec": {
      "name": "python3",
      "display_name": "Python 3"
    }
  },
  "nbformat": 4,
  "nbformat_minor": 0
}